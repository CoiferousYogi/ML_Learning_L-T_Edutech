{
 "cells": [
  {
   "cell_type": "markdown",
   "metadata": {},
   "source": [
    "# Numpy Practice Exercise: Generating and Analyzing Random Data\n",
    "You are tasked with using the numpy library in Python to generate and analyze random data for a group of individuals. Follow the steps below:\n",
    "\n",
    "### Generate Data:\n",
    "- Generate 20 random ages between 18 and 60.\n",
    "- Generate 20 random heights in centimeters between 150 and 190.\n",
    "- Generate 20 random weights in kilograms between 50 and 100.\n",
    "\n",
    "### Combine Data:\n",
    "- Combine the generated data into a 2D array where each row represents an individual, and the columns represent age, height, and weight respectively.\n",
    "- **Example personArray = np.column_stack((ages, heights, weights))**\n",
    "\n",
    "### Analysis:\n",
    "- Find the maximum height among all individuals and print it along with its position in the array.\n",
    "- Calculate and print the average age, height, and weight for the group.\n",
    "\n",
    "### Filtering and Printing:\n",
    "- Print the ages of individuals whose height is above 170 centimeters.\n",
    "- Print the weights of individuals who are younger than 25 years old.\n",
    "- Print only the ages of all individuals.\n",
    "\n",
    "### Slicing:\n",
    "- Create a new array containing data for the first 10 individuals (rows) only.\n",
    "- Print the heights of these 10 individuals."
   ]
  },
  {
   "cell_type": "code",
   "execution_count": null,
   "metadata": {},
   "outputs": [],
   "source": []
  }
 ],
 "metadata": {
  "kernelspec": {
   "display_name": "Python 3",
   "language": "python",
   "name": "python3"
  },
  "language_info": {
   "codemirror_mode": {
    "name": "ipython",
    "version": 3
   },
   "file_extension": ".py",
   "mimetype": "text/x-python",
   "name": "python",
   "nbconvert_exporter": "python",
   "pygments_lexer": "ipython3",
   "version": "3.7.4"
  }
 },
 "nbformat": 4,
 "nbformat_minor": 4
}
