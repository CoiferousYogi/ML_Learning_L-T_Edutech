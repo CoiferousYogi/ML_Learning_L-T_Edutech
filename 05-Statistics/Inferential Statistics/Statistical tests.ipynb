{
 "cells": [
  {
   "cell_type": "markdown",
   "metadata": {},
   "source": [
    "### Statistical Tests Formulas\n",
    "\n",
    "Here are the formulas for various statistical tests including one-sample t-test, two-sample t-test, F-test, ANOVA, chi-square test, and z-test.\n",
    "\n",
    "#### 1. One-Sample t-Test\n",
    "\n",
    "The one-sample t-test checks if the mean of a single sample is significantly different from a known or hypothesized population mean.\n",
    "\n",
    "**Formula:**\n",
    "\\$ t = \\frac{\\bar{X} - \\mu}{s / \\sqrt{n}} \\$\n",
    "\n",
    "Where:\n",
    "- \\( \\bar{X} \\) = sample mean\n",
    "- \\( \\mu \\) = population mean\n",
    "- \\( s \\) = sample standard deviation\n",
    "- \\( n \\) = sample size\n",
    "\n",
    "#### 2. Two-Sample t-Test\n",
    "\n",
    "The two-sample t-test compares the means of two independent samples to determine if they are significantly different from each other.\n",
    "\n",
    "**Formula:**\n",
    "\n",
    "For equal variances:\n",
    "\\$ t = \\frac{\\bar{X}_1 - \\bar{X}_2}{s_p \\sqrt{\\frac{1}{n_1} + \\frac{1}{n_2}}} \\$\n",
    "\\$ s_p = \\sqrt{\\frac{(n_1 - 1)s_1^2 + (n_2 - 1)s_2^2}{n_1 + n_2 - 2}} \\$\n",
    "\n",
    "For unequal variances (Welch's t-test):\n",
    "\\$ t = \\frac{\\bar{X}_1 - \\bar{X}_2}{\\sqrt{\\frac{s_1^2}{n_1} + \\frac{s_2^2}{n_2}}} \\$\n",
    "\n",
    "Where:\n",
    "- \\( \\bar{X}_1 \\) and \\( \\bar{X}_2 \\) = sample means\n",
    "- \\( s_1 \\) and \\( s_2 \\) = sample standard deviations\n",
    "- \\( n_1 \\) and \\( n_2 \\) = sample sizes\n",
    "\n",
    "#### 3. F-Test\n",
    "\n",
    "The F-test compares the variances of two samples to determine if they are significantly different.\n",
    "\n",
    "**Formula:**\n",
    "\\$ F = \\frac{s_1^2}{s_2^2} \\$\n",
    "\n",
    "Where:\n",
    "- \\( s_1^2 \\) = variance of the first sample\n",
    "- \\( s_2^2 \\) = variance of the second sample\n",
    "\n",
    "#### 4. ANOVA (Analysis of Variance)\n",
    "\n",
    "ANOVA tests whether there are significant differences between the means of three or more independent groups.\n",
    "\n",
    "**Formula:**\n",
    "\\$ F = \\frac{\\{MS}_\\{between}}{\\{MS}_\\{within}} \\$\n",
    "\n",
    "Where:\n",
    "- \\(\\{MS}_\\{between} = \\frac{\\{SS}_\\{between}}{\\{df}_\\{between}}\\)\n",
    "- \\(\\{MS}_\\{within} = \\frac{\\{SS}_\\{within}}{\\{df}_\\{within}}\\)\n",
    "\n",
    "- \\(\\{SS}_\\{between}\\) = Sum of squares between the groups\n",
    "- \\(\\{SS}_\\{within}\\) = Sum of squares within the groups\n",
    "- \\(\\{df}_\\{between}\\) = Degrees of freedom between the groups\n",
    "- \\(\\{df}_\\{within}\\) = Degrees of freedom within the groups\n",
    "\n",
    "#### 5. Chi-Square Test\n",
    "\n",
    "The chi-square test assesses whether observed frequencies in categorical data differ from expected frequencies.\n",
    "\n",
    "**Formula:**\n",
    "\\$ \\chi^2 = \\sum \\frac{(O_i - E_i)^2}{E_i} \\$\n",
    "\n",
    "Where:\n",
    "- \\( O_i \\) = observed frequency\n",
    "- \\( E_i \\) = expected frequency\n",
    "\n",
    "#### 6. Z-Test\n",
    "\n",
    "The z-test determines if there is a significant difference between sample and population means or between the means of two samples when the population variance is known.\n",
    "\n",
    "**Formula:**\n",
    "\n",
    "For one-sample z-test:\n",
    "\\$ z = \\frac{\\bar{X} - \\mu}{\\sigma / \\sqrt{n}} \\$\n",
    "\n",
    "For two-sample z-test:\n",
    "\\$ z = \\frac{\\bar{X}_1 - \\bar{X}_2}{\\sqrt{\\frac{\\sigma_1^2}{n_1} + \\frac{\\sigma_2^2}{n_2}}} \\$\n",
    "\n",
    "Where:\n",
    "- \\( \\bar{X} \\) = sample mean\n",
    "- \\( \\mu \\) = population mean\n",
    "- \\( \\sigma \\) = population standard deviation\n",
    "- \\( n \\) = sample size\n",
    "- \\( \\bar{X}_1 \\) and \\( \\bar{X}_2 \\) = means of the two samples\n",
    "- \\( \\sigma_1 \\) and \\( \\sigma_2 \\) = population standard deviations for the two samples\n",
    "- \\( n_1 \\) and \\( n_2 \\) = sample sizes\n",
    "\n",
    "### Python Implementation"
   ]
  },
  {
   "cell_type": "code",
   "execution_count": 2,
   "metadata": {},
   "outputs": [],
   "source": [
    "import numpy as np\n",
    "import scipy.stats as stats"
   ]
  },
  {
   "cell_type": "code",
   "execution_count": 3,
   "metadata": {},
   "outputs": [],
   "source": [
    "# Sample data\n",
    "data1 = np.array([10, 15, 14, 10, 11, 12, 14, 16, 20, 23])\n",
    "data2 = np.array([13, 16, 12, 14, 18, 19, 11, 12, 17, 21])"
   ]
  },
  {
   "cell_type": "code",
   "execution_count": 4,
   "metadata": {},
   "outputs": [
    {
     "name": "stdout",
     "output_type": "stream",
     "text": [
      "One-sample t-test: -0.36983525454115346 0.7200580269526551\n"
     ]
    }
   ],
   "source": [
    "# One-sample t-test\n",
    "t_stat, p_val = stats.ttest_1samp(data1, popmean=15)\n",
    "print('One-sample t-test:', t_stat, p_val)"
   ]
  },
  {
   "cell_type": "code",
   "execution_count": 5,
   "metadata": {},
   "outputs": [
    {
     "name": "stdout",
     "output_type": "stream",
     "text": [
      "Two-sample t-test: -0.46308235960744415 0.6488551210024603\n"
     ]
    }
   ],
   "source": [
    "# Two-sample t-test\n",
    "t_stat, p_val = stats.ttest_ind(data1, data2)\n",
    "print('Two-sample t-test:', t_stat, p_val)"
   ]
  },
  {
   "cell_type": "code",
   "execution_count": 6,
   "metadata": {},
   "outputs": [
    {
     "name": "stdout",
     "output_type": "stream",
     "text": [
      "F-test: 0.2144452717795979 0.6488551210024591\n"
     ]
    }
   ],
   "source": [
    "# F-test (Variance Ratio Test)\n",
    "f_stat, p_val = stats.f_oneway(data1, data2)\n",
    "print('F-test:', f_stat, p_val)"
   ]
  },
  {
   "cell_type": "code",
   "execution_count": 7,
   "metadata": {},
   "outputs": [
    {
     "name": "stdout",
     "output_type": "stream",
     "text": [
      "ANOVA: 0.3223209328151027 0.7272148644260656\n"
     ]
    }
   ],
   "source": [
    "# ANOVA\n",
    "data3 = np.array([15, 16, 12, 14, 18, 20, 13, 12, 17, 21])\n",
    "f_stat, p_val = stats.f_oneway(data1, data2, data3)\n",
    "print('ANOVA:', f_stat, p_val)"
   ]
  },
  {
   "cell_type": "code",
   "execution_count": 8,
   "metadata": {},
   "outputs": [
    {
     "name": "stdout",
     "output_type": "stream",
     "text": [
      "Chi-square test: 3.3333333333333335 0.1888756028375618\n"
     ]
    }
   ],
   "source": [
    "# Chi-square test (example with categorical data)\n",
    "observed = np.array([10, 20, 30])\n",
    "expected = np.array([15, 15, 30])\n",
    "chi2_stat, p_val = stats.chisquare(f_obs=observed, f_exp=expected)\n",
    "print('Chi-square test:', chi2_stat, p_val)"
   ]
  },
  {
   "cell_type": "code",
   "execution_count": 9,
   "metadata": {},
   "outputs": [
    {
     "name": "stdout",
     "output_type": "stream",
     "text": [
      "Z-test: -0.3698352545411535 0.7115052454272568\n"
     ]
    }
   ],
   "source": [
    "# Z-test\n",
    "def z_test(sample_mean, pop_mean, pop_std, n):\n",
    "    z = (sample_mean - pop_mean) / (pop_std / np.sqrt(n))\n",
    "    p = 2 * (1 - stats.norm.cdf(abs(z)))\n",
    "    return z, p\n",
    "\n",
    "z_stat, p_val = z_test(np.mean(data1), 15, np.std(data1, ddof=1), len(data1))\n",
    "print('Z-test:', z_stat, p_val)"
   ]
  },
  {
   "cell_type": "code",
   "execution_count": null,
   "metadata": {},
   "outputs": [],
   "source": []
  }
 ],
 "metadata": {
  "kernelspec": {
   "display_name": "Python 3",
   "language": "python",
   "name": "python3"
  },
  "language_info": {
   "codemirror_mode": {
    "name": "ipython",
    "version": 3
   },
   "file_extension": ".py",
   "mimetype": "text/x-python",
   "name": "python",
   "nbconvert_exporter": "python",
   "pygments_lexer": "ipython3",
   "version": "3.7.4"
  }
 },
 "nbformat": 4,
 "nbformat_minor": 4
}
