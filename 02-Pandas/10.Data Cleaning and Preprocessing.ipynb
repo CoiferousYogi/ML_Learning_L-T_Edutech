{
 "cells": [
  {
   "cell_type": "code",
   "execution_count": 1,
   "metadata": {},
   "outputs": [],
   "source": [
    "import pandas as pd\n",
    "import numpy as np"
   ]
  },
  {
   "cell_type": "markdown",
   "metadata": {},
   "source": [
    "# Load synthetic data into a Pandas DataFrame"
   ]
  },
  {
   "cell_type": "code",
   "execution_count": 2,
   "metadata": {},
   "outputs": [],
   "source": [
    "df = pd.read_csv('synthetic_data.csv')"
   ]
  },
  {
   "cell_type": "markdown",
   "metadata": {},
   "source": [
    "# 1. Exploring DataFrame structure"
   ]
  },
  {
   "cell_type": "code",
   "execution_count": 13,
   "metadata": {},
   "outputs": [
    {
     "name": "stdout",
     "output_type": "stream",
     "text": [
      "DataFrame structure:\n"
     ]
    },
    {
     "data": {
      "text/plain": [
       "(1000, 13)"
      ]
     },
     "execution_count": 13,
     "metadata": {},
     "output_type": "execute_result"
    }
   ],
   "source": [
    "print(\"DataFrame structure:\")\n",
    "df.shape"
   ]
  },
  {
   "cell_type": "code",
   "execution_count": 14,
   "metadata": {},
   "outputs": [
    {
     "data": {
      "text/plain": [
       "Index(['Date', 'Time', 'Stop/Station', 'Passenger_Count', 'Vehicle_ID',\n",
       "       'Latitude', 'Longitude', 'Temperature (°C)', 'Precipitation (mm)',\n",
       "       'Humidity (%)', 'Age_Group', 'Gender', 'Feedback'],\n",
       "      dtype='object')"
      ]
     },
     "execution_count": 14,
     "metadata": {},
     "output_type": "execute_result"
    }
   ],
   "source": [
    "df.columns"
   ]
  },
  {
   "cell_type": "code",
   "execution_count": 15,
   "metadata": {},
   "outputs": [
    {
     "data": {
      "text/plain": [
       "Date                   object\n",
       "Time                   object\n",
       "Stop/Station           object\n",
       "Passenger_Count         int64\n",
       "Vehicle_ID             object\n",
       "Latitude              float64\n",
       "Longitude             float64\n",
       "Temperature (°C)        int64\n",
       "Precipitation (mm)      int64\n",
       "Humidity (%)            int64\n",
       "Age_Group              object\n",
       "Gender                 object\n",
       "Feedback               object\n",
       "dtype: object"
      ]
     },
     "execution_count": 15,
     "metadata": {},
     "output_type": "execute_result"
    }
   ],
   "source": [
    "df.dtypes"
   ]
  },
  {
   "cell_type": "markdown",
   "metadata": {},
   "source": [
    "# 2. Summarizing data with descriptive statistics"
   ]
  },
  {
   "cell_type": "code",
   "execution_count": 17,
   "metadata": {},
   "outputs": [
    {
     "name": "stdout",
     "output_type": "stream",
     "text": [
      "\n",
      "Descriptive statistics:\n"
     ]
    },
    {
     "data": {
      "text/html": [
       "<div>\n",
       "<style scoped>\n",
       "    .dataframe tbody tr th:only-of-type {\n",
       "        vertical-align: middle;\n",
       "    }\n",
       "\n",
       "    .dataframe tbody tr th {\n",
       "        vertical-align: top;\n",
       "    }\n",
       "\n",
       "    .dataframe thead th {\n",
       "        text-align: right;\n",
       "    }\n",
       "</style>\n",
       "<table border=\"1\" class=\"dataframe\">\n",
       "  <thead>\n",
       "    <tr style=\"text-align: right;\">\n",
       "      <th></th>\n",
       "      <th>Passenger_Count</th>\n",
       "      <th>Latitude</th>\n",
       "      <th>Longitude</th>\n",
       "      <th>Temperature (°C)</th>\n",
       "      <th>Precipitation (mm)</th>\n",
       "      <th>Humidity (%)</th>\n",
       "    </tr>\n",
       "  </thead>\n",
       "  <tbody>\n",
       "    <tr>\n",
       "      <th>count</th>\n",
       "      <td>1000.000000</td>\n",
       "      <td>1000.000000</td>\n",
       "      <td>1000.000000</td>\n",
       "      <td>1000.00000</td>\n",
       "      <td>1000.000000</td>\n",
       "      <td>1000.000000</td>\n",
       "    </tr>\n",
       "    <tr>\n",
       "      <th>mean</th>\n",
       "      <td>55.751000</td>\n",
       "      <td>4.010027</td>\n",
       "      <td>109.804870</td>\n",
       "      <td>14.50400</td>\n",
       "      <td>4.476000</td>\n",
       "      <td>74.566000</td>\n",
       "    </tr>\n",
       "    <tr>\n",
       "      <th>std</th>\n",
       "      <td>25.775519</td>\n",
       "      <td>1.699949</td>\n",
       "      <td>5.606994</td>\n",
       "      <td>14.58783</td>\n",
       "      <td>2.866992</td>\n",
       "      <td>14.069812</td>\n",
       "    </tr>\n",
       "    <tr>\n",
       "      <th>min</th>\n",
       "      <td>10.000000</td>\n",
       "      <td>1.005684</td>\n",
       "      <td>100.012458</td>\n",
       "      <td>-10.00000</td>\n",
       "      <td>0.000000</td>\n",
       "      <td>50.000000</td>\n",
       "    </tr>\n",
       "    <tr>\n",
       "      <th>25%</th>\n",
       "      <td>34.000000</td>\n",
       "      <td>2.599804</td>\n",
       "      <td>105.148090</td>\n",
       "      <td>2.00000</td>\n",
       "      <td>2.000000</td>\n",
       "      <td>63.000000</td>\n",
       "    </tr>\n",
       "    <tr>\n",
       "      <th>50%</th>\n",
       "      <td>56.000000</td>\n",
       "      <td>4.001286</td>\n",
       "      <td>109.790245</td>\n",
       "      <td>15.00000</td>\n",
       "      <td>4.000000</td>\n",
       "      <td>75.000000</td>\n",
       "    </tr>\n",
       "    <tr>\n",
       "      <th>75%</th>\n",
       "      <td>77.000000</td>\n",
       "      <td>5.424795</td>\n",
       "      <td>114.522704</td>\n",
       "      <td>27.00000</td>\n",
       "      <td>7.000000</td>\n",
       "      <td>86.000000</td>\n",
       "    </tr>\n",
       "    <tr>\n",
       "      <th>max</th>\n",
       "      <td>99.000000</td>\n",
       "      <td>6.998887</td>\n",
       "      <td>119.974508</td>\n",
       "      <td>39.00000</td>\n",
       "      <td>9.000000</td>\n",
       "      <td>99.000000</td>\n",
       "    </tr>\n",
       "  </tbody>\n",
       "</table>\n",
       "</div>"
      ],
      "text/plain": [
       "       Passenger_Count     Latitude    Longitude  Temperature (°C)  \\\n",
       "count      1000.000000  1000.000000  1000.000000        1000.00000   \n",
       "mean         55.751000     4.010027   109.804870          14.50400   \n",
       "std          25.775519     1.699949     5.606994          14.58783   \n",
       "min          10.000000     1.005684   100.012458         -10.00000   \n",
       "25%          34.000000     2.599804   105.148090           2.00000   \n",
       "50%          56.000000     4.001286   109.790245          15.00000   \n",
       "75%          77.000000     5.424795   114.522704          27.00000   \n",
       "max          99.000000     6.998887   119.974508          39.00000   \n",
       "\n",
       "       Precipitation (mm)  Humidity (%)  \n",
       "count         1000.000000   1000.000000  \n",
       "mean             4.476000     74.566000  \n",
       "std              2.866992     14.069812  \n",
       "min              0.000000     50.000000  \n",
       "25%              2.000000     63.000000  \n",
       "50%              4.000000     75.000000  \n",
       "75%              7.000000     86.000000  \n",
       "max              9.000000     99.000000  "
      ]
     },
     "execution_count": 17,
     "metadata": {},
     "output_type": "execute_result"
    }
   ],
   "source": [
    "print(\"\\nDescriptive statistics:\")\n",
    "df.describe()"
   ]
  },
  {
   "cell_type": "markdown",
   "metadata": {},
   "source": [
    "# 3. Handling Missing Values\n",
    "# Identify missing values"
   ]
  },
  {
   "cell_type": "code",
   "execution_count": 5,
   "metadata": {},
   "outputs": [
    {
     "name": "stdout",
     "output_type": "stream",
     "text": [
      "\n",
      "Missing Values:\n",
      "Date                  0\n",
      "Time                  0\n",
      "Stop/Station          0\n",
      "Passenger_Count       0\n",
      "Vehicle_ID            0\n",
      "Latitude              0\n",
      "Longitude             0\n",
      "Temperature (°C)      0\n",
      "Precipitation (mm)    0\n",
      "Humidity (%)          0\n",
      "Age_Group             0\n",
      "Gender                0\n",
      "Feedback              0\n",
      "dtype: int64\n"
     ]
    }
   ],
   "source": [
    "missing_values = df.isnull().sum()\n",
    "print(\"\\nMissing Values:\")\n",
    "print(missing_values)"
   ]
  },
  {
   "cell_type": "markdown",
   "metadata": {},
   "source": [
    "# Filling missing values (e.g., with mean)"
   ]
  },
  {
   "cell_type": "code",
   "execution_count": 19,
   "metadata": {},
   "outputs": [
    {
     "name": "stderr",
     "output_type": "stream",
     "text": [
      "/opt/conda/lib/python3.7/site-packages/ipykernel_launcher.py:2: FutureWarning: Dropping of nuisance columns in DataFrame reductions (with 'numeric_only=None') is deprecated; in a future version this will raise TypeError.  Select only valid columns before calling the reduction.\n",
      "  \n"
     ]
    },
    {
     "data": {
      "text/html": [
       "<div>\n",
       "<style scoped>\n",
       "    .dataframe tbody tr th:only-of-type {\n",
       "        vertical-align: middle;\n",
       "    }\n",
       "\n",
       "    .dataframe tbody tr th {\n",
       "        vertical-align: top;\n",
       "    }\n",
       "\n",
       "    .dataframe thead th {\n",
       "        text-align: right;\n",
       "    }\n",
       "</style>\n",
       "<table border=\"1\" class=\"dataframe\">\n",
       "  <thead>\n",
       "    <tr style=\"text-align: right;\">\n",
       "      <th></th>\n",
       "      <th>Date</th>\n",
       "      <th>Time</th>\n",
       "      <th>Stop/Station</th>\n",
       "      <th>Passenger_Count</th>\n",
       "      <th>Vehicle_ID</th>\n",
       "      <th>Latitude</th>\n",
       "      <th>Longitude</th>\n",
       "      <th>Temperature (°C)</th>\n",
       "      <th>Precipitation (mm)</th>\n",
       "      <th>Humidity (%)</th>\n",
       "      <th>Age_Group</th>\n",
       "      <th>Gender</th>\n",
       "      <th>Feedback</th>\n",
       "    </tr>\n",
       "  </thead>\n",
       "  <tbody>\n",
       "    <tr>\n",
       "      <th>0</th>\n",
       "      <td>2023-11-16</td>\n",
       "      <td>12:03</td>\n",
       "      <td>Johor Bahru</td>\n",
       "      <td>46</td>\n",
       "      <td>TRAIN82</td>\n",
       "      <td>3.906935</td>\n",
       "      <td>106.068464</td>\n",
       "      <td>11</td>\n",
       "      <td>3</td>\n",
       "      <td>63</td>\n",
       "      <td>18-24</td>\n",
       "      <td>Male</td>\n",
       "      <td>Driver was friendly</td>\n",
       "    </tr>\n",
       "    <tr>\n",
       "      <th>1</th>\n",
       "      <td>2023-07-14</td>\n",
       "      <td>05:07</td>\n",
       "      <td>Cameron Highlands</td>\n",
       "      <td>17</td>\n",
       "      <td>TRAIN65</td>\n",
       "      <td>4.227106</td>\n",
       "      <td>118.407191</td>\n",
       "      <td>3</td>\n",
       "      <td>3</td>\n",
       "      <td>74</td>\n",
       "      <td>25-40</td>\n",
       "      <td>Female</td>\n",
       "      <td>Seats were uncomfortable</td>\n",
       "    </tr>\n",
       "    <tr>\n",
       "      <th>2</th>\n",
       "      <td>2023-09-22</td>\n",
       "      <td>14:11</td>\n",
       "      <td>Ipoh</td>\n",
       "      <td>91</td>\n",
       "      <td>TRAIN38</td>\n",
       "      <td>6.819556</td>\n",
       "      <td>101.272984</td>\n",
       "      <td>27</td>\n",
       "      <td>1</td>\n",
       "      <td>81</td>\n",
       "      <td>40-60</td>\n",
       "      <td>Male</td>\n",
       "      <td>Delay in departure</td>\n",
       "    </tr>\n",
       "    <tr>\n",
       "      <th>3</th>\n",
       "      <td>2022-07-12</td>\n",
       "      <td>09:11</td>\n",
       "      <td>Penang</td>\n",
       "      <td>41</td>\n",
       "      <td>BUS245</td>\n",
       "      <td>3.627521</td>\n",
       "      <td>106.226990</td>\n",
       "      <td>1</td>\n",
       "      <td>7</td>\n",
       "      <td>98</td>\n",
       "      <td>25-40</td>\n",
       "      <td>Female</td>\n",
       "      <td>Driver was friendly</td>\n",
       "    </tr>\n",
       "    <tr>\n",
       "      <th>4</th>\n",
       "      <td>2023-12-09</td>\n",
       "      <td>16:59</td>\n",
       "      <td>Kuching</td>\n",
       "      <td>53</td>\n",
       "      <td>BUS958</td>\n",
       "      <td>1.418952</td>\n",
       "      <td>117.050925</td>\n",
       "      <td>15</td>\n",
       "      <td>9</td>\n",
       "      <td>71</td>\n",
       "      <td>40-60</td>\n",
       "      <td>Male</td>\n",
       "      <td>Service was excellent</td>\n",
       "    </tr>\n",
       "  </tbody>\n",
       "</table>\n",
       "</div>"
      ],
      "text/plain": [
       "         Date   Time       Stop/Station  Passenger_Count Vehicle_ID  Latitude  \\\n",
       "0  2023-11-16  12:03        Johor Bahru               46    TRAIN82  3.906935   \n",
       "1  2023-07-14  05:07  Cameron Highlands               17    TRAIN65  4.227106   \n",
       "2  2023-09-22  14:11               Ipoh               91    TRAIN38  6.819556   \n",
       "3  2022-07-12  09:11             Penang               41     BUS245  3.627521   \n",
       "4  2023-12-09  16:59            Kuching               53     BUS958  1.418952   \n",
       "\n",
       "    Longitude  Temperature (°C)  Precipitation (mm)  Humidity (%) Age_Group  \\\n",
       "0  106.068464                11                   3            63     18-24   \n",
       "1  118.407191                 3                   3            74     25-40   \n",
       "2  101.272984                27                   1            81     40-60   \n",
       "3  106.226990                 1                   7            98     25-40   \n",
       "4  117.050925                15                   9            71     40-60   \n",
       "\n",
       "   Gender                  Feedback  \n",
       "0    Male       Driver was friendly  \n",
       "1  Female  Seats were uncomfortable  \n",
       "2    Male        Delay in departure  \n",
       "3  Female       Driver was friendly  \n",
       "4    Male     Service was excellent  "
      ]
     },
     "execution_count": 19,
     "metadata": {},
     "output_type": "execute_result"
    }
   ],
   "source": [
    "df_filled = df.fillna(df.mean())\n",
    "df_filled.head()"
   ]
  },
  {
   "cell_type": "markdown",
   "metadata": {},
   "source": [
    "# Dropping rows with missing values"
   ]
  },
  {
   "cell_type": "code",
   "execution_count": 7,
   "metadata": {},
   "outputs": [],
   "source": [
    "df_dropped = df.dropna()"
   ]
  },
  {
   "cell_type": "markdown",
   "metadata": {},
   "source": [
    "# 4. Dealing with Outliers\n",
    "# Identify outliers using z-scores"
   ]
  },
  {
   "cell_type": "code",
   "execution_count": 22,
   "metadata": {},
   "outputs": [
    {
     "name": "stderr",
     "output_type": "stream",
     "text": [
      "/opt/conda/lib/python3.7/site-packages/ipykernel_launcher.py:3: FutureWarning: Dropping of nuisance columns in DataFrame reductions (with 'numeric_only=None') is deprecated; in a future version this will raise TypeError.  Select only valid columns before calling the reduction.\n",
      "  This is separate from the ipykernel package so we can avoid doing imports until\n"
     ]
    }
   ],
   "source": [
    "z_scores = np.abs((df - df.mean()) / df.std())\n",
    "outliers = df[z_scores > 3]"
   ]
  },
  {
   "cell_type": "markdown",
   "metadata": {},
   "source": [
    "# Identify outliers using IQR"
   ]
  },
  {
   "cell_type": "code",
   "execution_count": 23,
   "metadata": {},
   "outputs": [
    {
     "name": "stderr",
     "output_type": "stream",
     "text": [
      "/opt/conda/lib/python3.7/site-packages/ipykernel_launcher.py:5: FutureWarning: Automatic reindexing on DataFrame vs Series comparisons is deprecated and will raise ValueError in a future version.  Do `left, right = left.align(right, axis=1, copy=False)` before e.g. `left == right`\n",
      "  \"\"\"\n"
     ]
    }
   ],
   "source": [
    "Q1 = df.quantile(0.25)\n",
    "Q3 = df.quantile(0.75)\n",
    "IQR = Q3 - Q1\n",
    "outliers_iqr = df[((df < (Q1 - 1.5 * IQR)) | (df > (Q3 + 1.5 * IQR))).any(axis=1)]"
   ]
  },
  {
   "cell_type": "markdown",
   "metadata": {},
   "source": [
    "# Visualizing outliers with boxplots"
   ]
  },
  {
   "cell_type": "code",
   "execution_count": 24,
   "metadata": {},
   "outputs": [
    {
     "data": {
      "image/png": "[encoded data removed]",
      "text/plain": [
       "<Figure size 720x432 with 1 Axes>"
      ]
     },
     "metadata": {
      "needs_background": "light"
     },
     "output_type": "display_data"
    }
   ],
   "source": [
    "import matplotlib.pyplot as plt\n",
    "plt.figure(figsize=(10, 6))\n",
    "df.boxplot()\n",
    "plt.title('Boxplot of Numerical Variables')\n",
    "plt.ylabel('Values')\n",
    "plt.xticks(rotation=45)\n",
    "plt.show()"
   ]
  },
  {
   "cell_type": "markdown",
   "metadata": {},
   "source": [
    "# Outlier Treatment: For demonstration, let's replace outliers with NaNs"
   ]
  },
  {
   "cell_type": "code",
   "execution_count": 25,
   "metadata": {},
   "outputs": [
    {
     "name": "stderr",
     "output_type": "stream",
     "text": [
      "/opt/conda/lib/python3.7/site-packages/ipykernel_launcher.py:2: FutureWarning: Dropping of nuisance columns in DataFrame reductions (with 'numeric_only=None') is deprecated; in a future version this will raise TypeError.  Select only valid columns before calling the reduction.\n",
      "  \n",
      "/opt/conda/lib/python3.7/site-packages/ipykernel_launcher.py:2: FutureWarning: Automatic reindexing on DataFrame vs Series comparisons is deprecated and will raise ValueError in a future version.  Do `left, right = left.align(right, axis=1, copy=False)` before e.g. `left == right`\n",
      "  \n"
     ]
    }
   ],
   "source": [
    "df_outliers_removed = df.mask((df - df.mean()).abs() > 3 * df.std())"
   ]
  },
  {
   "cell_type": "markdown",
   "metadata": {},
   "source": [
    "# Display cleaned DataFrame"
   ]
  },
  {
   "cell_type": "code",
   "execution_count": 26,
   "metadata": {},
   "outputs": [
    {
     "name": "stdout",
     "output_type": "stream",
     "text": [
      "\n",
      "DataFrame after outlier removal:\n"
     ]
    },
    {
     "data": {
      "text/html": [
       "<div>\n",
       "<style scoped>\n",
       "    .dataframe tbody tr th:only-of-type {\n",
       "        vertical-align: middle;\n",
       "    }\n",
       "\n",
       "    .dataframe tbody tr th {\n",
       "        vertical-align: top;\n",
       "    }\n",
       "\n",
       "    .dataframe thead th {\n",
       "        text-align: right;\n",
       "    }\n",
       "</style>\n",
       "<table border=\"1\" class=\"dataframe\">\n",
       "  <thead>\n",
       "    <tr style=\"text-align: right;\">\n",
       "      <th></th>\n",
       "      <th>Date</th>\n",
       "      <th>Time</th>\n",
       "      <th>Stop/Station</th>\n",
       "      <th>Passenger_Count</th>\n",
       "      <th>Vehicle_ID</th>\n",
       "      <th>Latitude</th>\n",
       "      <th>Longitude</th>\n",
       "      <th>Temperature (°C)</th>\n",
       "      <th>Precipitation (mm)</th>\n",
       "      <th>Humidity (%)</th>\n",
       "      <th>Age_Group</th>\n",
       "      <th>Gender</th>\n",
       "      <th>Feedback</th>\n",
       "    </tr>\n",
       "  </thead>\n",
       "  <tbody>\n",
       "    <tr>\n",
       "      <th>0</th>\n",
       "      <td>2023-11-16</td>\n",
       "      <td>12:03</td>\n",
       "      <td>Johor Bahru</td>\n",
       "      <td>46</td>\n",
       "      <td>TRAIN82</td>\n",
       "      <td>3.906935</td>\n",
       "      <td>106.068464</td>\n",
       "      <td>11</td>\n",
       "      <td>3</td>\n",
       "      <td>63</td>\n",
       "      <td>18-24</td>\n",
       "      <td>Male</td>\n",
       "      <td>Driver was friendly</td>\n",
       "    </tr>\n",
       "    <tr>\n",
       "      <th>1</th>\n",
       "      <td>2023-07-14</td>\n",
       "      <td>05:07</td>\n",
       "      <td>Cameron Highlands</td>\n",
       "      <td>17</td>\n",
       "      <td>TRAIN65</td>\n",
       "      <td>4.227106</td>\n",
       "      <td>118.407191</td>\n",
       "      <td>3</td>\n",
       "      <td>3</td>\n",
       "      <td>74</td>\n",
       "      <td>25-40</td>\n",
       "      <td>Female</td>\n",
       "      <td>Seats were uncomfortable</td>\n",
       "    </tr>\n",
       "    <tr>\n",
       "      <th>2</th>\n",
       "      <td>2023-09-22</td>\n",
       "      <td>14:11</td>\n",
       "      <td>Ipoh</td>\n",
       "      <td>91</td>\n",
       "      <td>TRAIN38</td>\n",
       "      <td>6.819556</td>\n",
       "      <td>101.272984</td>\n",
       "      <td>27</td>\n",
       "      <td>1</td>\n",
       "      <td>81</td>\n",
       "      <td>40-60</td>\n",
       "      <td>Male</td>\n",
       "      <td>Delay in departure</td>\n",
       "    </tr>\n",
       "    <tr>\n",
       "      <th>3</th>\n",
       "      <td>2022-07-12</td>\n",
       "      <td>09:11</td>\n",
       "      <td>Penang</td>\n",
       "      <td>41</td>\n",
       "      <td>BUS245</td>\n",
       "      <td>3.627521</td>\n",
       "      <td>106.226990</td>\n",
       "      <td>1</td>\n",
       "      <td>7</td>\n",
       "      <td>98</td>\n",
       "      <td>25-40</td>\n",
       "      <td>Female</td>\n",
       "      <td>Driver was friendly</td>\n",
       "    </tr>\n",
       "    <tr>\n",
       "      <th>4</th>\n",
       "      <td>2023-12-09</td>\n",
       "      <td>16:59</td>\n",
       "      <td>Kuching</td>\n",
       "      <td>53</td>\n",
       "      <td>BUS958</td>\n",
       "      <td>1.418952</td>\n",
       "      <td>117.050925</td>\n",
       "      <td>15</td>\n",
       "      <td>9</td>\n",
       "      <td>71</td>\n",
       "      <td>40-60</td>\n",
       "      <td>Male</td>\n",
       "      <td>Service was excellent</td>\n",
       "    </tr>\n",
       "  </tbody>\n",
       "</table>\n",
       "</div>"
      ],
      "text/plain": [
       "         Date   Time       Stop/Station  Passenger_Count Vehicle_ID  Latitude  \\\n",
       "0  2023-11-16  12:03        Johor Bahru               46    TRAIN82  3.906935   \n",
       "1  2023-07-14  05:07  Cameron Highlands               17    TRAIN65  4.227106   \n",
       "2  2023-09-22  14:11               Ipoh               91    TRAIN38  6.819556   \n",
       "3  2022-07-12  09:11             Penang               41     BUS245  3.627521   \n",
       "4  2023-12-09  16:59            Kuching               53     BUS958  1.418952   \n",
       "\n",
       "    Longitude  Temperature (°C)  Precipitation (mm)  Humidity (%) Age_Group  \\\n",
       "0  106.068464                11                   3            63     18-24   \n",
       "1  118.407191                 3                   3            74     25-40   \n",
       "2  101.272984                27                   1            81     40-60   \n",
       "3  106.226990                 1                   7            98     25-40   \n",
       "4  117.050925                15                   9            71     40-60   \n",
       "\n",
       "   Gender                  Feedback  \n",
       "0    Male       Driver was friendly  \n",
       "1  Female  Seats were uncomfortable  \n",
       "2    Male        Delay in departure  \n",
       "3  Female       Driver was friendly  \n",
       "4    Male     Service was excellent  "
      ]
     },
     "execution_count": 26,
     "metadata": {},
     "output_type": "execute_result"
    }
   ],
   "source": [
    "print(\"\\nDataFrame after outlier removal:\")\n",
    "df_outliers_removed.head()"
   ]
  }
 ],
 "metadata": {
  "kernelspec": {
   "display_name": "Python 3",
   "language": "python",
   "name": "python3"
  },
  "language_info": {
   "codemirror_mode": {
    "name": "ipython",
    "version": 3
   },
   "file_extension": ".py",
   "mimetype": "text/x-python",
   "name": "python",
   "nbconvert_exporter": "python",
   "pygments_lexer": "ipython3",
   "version": "3.7.4"
  }
 },
 "nbformat": 4,
 "nbformat_minor": 4
}
