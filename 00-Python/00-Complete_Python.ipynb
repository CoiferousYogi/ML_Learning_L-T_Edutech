{
  "nbformat": 4,
  "nbformat_minor": 0,
  "metadata": {
    "colab": {
      "provenance": [],
      "authorship_tag": "ABX9TyN8QxArLAkZcqwVb74m4G//",
      "include_colab_link": true
    },
    "kernelspec": {
      "name": "python3",
      "display_name": "Python 3"
    },
    "language_info": {
      "name": "python"
    }
  },
  "cells": [
    {
      "cell_type": "markdown",
      "metadata": {
        "id": "view-in-github",
        "colab_type": "text"
      },
      "source": [
        "<a href=\"https://colab.research.google.com/github/usshaa/BK_Birla/blob/main/00-Python/00-Complete_Python.ipynb\" target=\"_parent\"><img src=\"https://colab.research.google.com/assets/colab-badge.svg\" alt=\"Open In Colab\"/></a>"
      ]
    },
    {
      "cell_type": "markdown",
      "source": [
        "**1. Variables and Data Types**\n",
        "Variables are used to store data.  Data types specify the kind of data a variable holds."
      ],
      "metadata": {
        "id": "duvPIpM_hynr"
      }
    },
    {
      "cell_type": "code",
      "source": [
        "# Examples:\n",
        "name = \"Alice\"  # String\n",
        "age = 30       # Integer\n",
        "height = 5.8   # Float\n",
        "is_student = True # Boolean\n",
        "print(f\"{name} is {age} years old and {height} feet tall.  Is she a student?: {is_student}\")"
      ],
      "metadata": {
        "colab": {
          "base_uri": "https://localhost:8080/"
        },
        "id": "XAQhOG4mhsOQ",
        "outputId": "40e620ab-3ada-49f8-f20e-9d7a7add4a8b"
      },
      "execution_count": null,
      "outputs": [
        {
          "output_type": "stream",
          "name": "stdout",
          "text": [
            "Alice is 30 years old and 5.8 feet tall.  Is she a student?: True\n"
          ]
        }
      ]
    },
    {
      "cell_type": "code",
      "source": [
        "# String manipulation\n",
        "message = \"Hello, World!\"\n",
        "print(message.upper())  # Convert to uppercase\n",
        "print(len(message))     # Get the length of the string\n",
        "print(message.replace(\"World\", \"Python\")) # Replace a substring"
      ],
      "metadata": {
        "colab": {
          "base_uri": "https://localhost:8080/"
        },
        "id": "cnBotsYih7fK",
        "outputId": "785a5ac0-45c5-4a35-c2fb-1e5bf8b6ccdc"
      },
      "execution_count": null,
      "outputs": [
        {
          "output_type": "stream",
          "name": "stdout",
          "text": [
            "HELLO, WORLD!\n",
            "13\n",
            "Hello, Python!\n"
          ]
        }
      ]
    },
    {
      "cell_type": "code",
      "source": [
        "# Integer operations\n",
        "number1 = 10\n",
        "number2 = 5\n",
        "print(number1 + number2)  # Addition\n",
        "print(number1 - number2) # Subtraction\n",
        "print(number1 * number2) # Multiplication"
      ],
      "metadata": {
        "colab": {
          "base_uri": "https://localhost:8080/"
        },
        "id": "6AUgFAOPiAfv",
        "outputId": "c8d4f8a3-1211-441c-9f03-39c184788f2c"
      },
      "execution_count": null,
      "outputs": [
        {
          "output_type": "stream",
          "name": "stdout",
          "text": [
            "15\n",
            "5\n",
            "50\n"
          ]
        }
      ]
    },
    {
      "cell_type": "code",
      "source": [
        "# Float operations\n",
        "float1 = 3.14\n",
        "float2 = 2.71\n",
        "print(float1 / float2) # Division\n",
        "print(round(float1 * float2, 2)) # Multiplication and round to 2 decimals"
      ],
      "metadata": {
        "colab": {
          "base_uri": "https://localhost:8080/"
        },
        "id": "tSiSK09HiDHn",
        "outputId": "b511676d-28f1-4521-d92f-f668e2b77ffc"
      },
      "execution_count": null,
      "outputs": [
        {
          "output_type": "stream",
          "name": "stdout",
          "text": [
            "1.1586715867158672\n",
            "8.51\n"
          ]
        }
      ]
    },
    {
      "cell_type": "code",
      "source": [
        "# Boolean operations\n",
        "is_true = True\n",
        "is_false = False\n",
        "print(is_true and is_false)  # Logical AND\n",
        "print(is_true or is_false)   # Logical OR\n",
        "print(not is_true)         # Logical NOT"
      ],
      "metadata": {
        "colab": {
          "base_uri": "https://localhost:8080/"
        },
        "id": "bUjBSVgkiFjK",
        "outputId": "7f481a96-b54a-46a2-b8eb-415d891f99de"
      },
      "execution_count": null,
      "outputs": [
        {
          "output_type": "stream",
          "name": "stdout",
          "text": [
            "False\n",
            "True\n",
            "False\n"
          ]
        }
      ]
    },
    {
      "cell_type": "code",
      "source": [
        "# Type conversion\n",
        "string_number = \"123\"\n",
        "converted_number = int(string_number)\n",
        "converted_number + 1"
      ],
      "metadata": {
        "colab": {
          "base_uri": "https://localhost:8080/"
        },
        "id": "zPKACA6biJgQ",
        "outputId": "1f31b199-fc60-4b25-8614-5baf8a677f9a"
      },
      "execution_count": null,
      "outputs": [
        {
          "output_type": "execute_result",
          "data": {
            "text/plain": [
              "124"
            ]
          },
          "metadata": {},
          "execution_count": 6
        }
      ]
    },
    {
      "cell_type": "markdown",
      "source": [
        "# Operators\n",
        "\n",
        "**Operators in Python:**\n",
        "Operators are special symbols or characters that perform specific operations on values or variables (operands).\n",
        "\n",
        "**Types of Operators:**\n",
        "\n",
        "**1. Arithmetic Operators:** Perform mathematical calculations."
      ],
      "metadata": {
        "id": "D9k64IBzidCg"
      }
    },
    {
      "cell_type": "code",
      "source": [
        "# Examples:\n",
        "a = 10\n",
        "b = 5"
      ],
      "metadata": {
        "id": "goqFQ69ZiYzS"
      },
      "execution_count": null,
      "outputs": []
    },
    {
      "cell_type": "code",
      "source": [
        "# Addition\n",
        "sum_result = a + b  # sum_result will be 15\n",
        "print(f\"Sum: {sum_result}\")"
      ],
      "metadata": {
        "colab": {
          "base_uri": "https://localhost:8080/"
        },
        "id": "np8quNvui5hh",
        "outputId": "16ed55da-aedc-41e9-8b7b-5ae364946976"
      },
      "execution_count": null,
      "outputs": [
        {
          "output_type": "stream",
          "name": "stdout",
          "text": [
            "Sum: 15\n"
          ]
        }
      ]
    },
    {
      "cell_type": "code",
      "source": [
        "# Subtraction\n",
        "diff_result = a - b # diff_result will be 5\n",
        "print(f\"Difference: {diff_result}\")"
      ],
      "metadata": {
        "colab": {
          "base_uri": "https://localhost:8080/"
        },
        "id": "QYYw8lWJi80Y",
        "outputId": "fb73e262-0ad1-4903-e0c0-8d8312a3d865"
      },
      "execution_count": null,
      "outputs": [
        {
          "output_type": "stream",
          "name": "stdout",
          "text": [
            "Difference: 5\n"
          ]
        }
      ]
    },
    {
      "cell_type": "code",
      "source": [
        "# Multiplication\n",
        "product_result = a * b # product_result will be 50\n",
        "print(f\"Product: {product_result}\")"
      ],
      "metadata": {
        "colab": {
          "base_uri": "https://localhost:8080/"
        },
        "id": "Y9RJ0cRijCF7",
        "outputId": "0177eca7-34ce-45c5-f157-7d0895f1757c"
      },
      "execution_count": null,
      "outputs": [
        {
          "output_type": "stream",
          "name": "stdout",
          "text": [
            "Product: 50\n"
          ]
        }
      ]
    },
    {
      "cell_type": "code",
      "source": [
        "# Division\n",
        "quotient_result = a / b  # quotient_result will be 2.0 (always a float in Python 3)\n",
        "print(f\"Quotient: {quotient_result}\")"
      ],
      "metadata": {
        "colab": {
          "base_uri": "https://localhost:8080/"
        },
        "id": "OJ_HJY7KjF6D",
        "outputId": "b8a7a575-1a3b-4ec7-9858-7e66e0248fdb"
      },
      "execution_count": null,
      "outputs": [
        {
          "output_type": "stream",
          "name": "stdout",
          "text": [
            "Quotient: 2.0\n"
          ]
        }
      ]
    },
    {
      "cell_type": "code",
      "source": [
        "# Floor Division (integer division)\n",
        "floor_quotient = a // b  # floor_quotient will be 2 (integer part of the quotient)\n",
        "print(f\"Floor Quotient: {floor_quotient}\")"
      ],
      "metadata": {
        "colab": {
          "base_uri": "https://localhost:8080/"
        },
        "id": "JM_xin9tjI2K",
        "outputId": "8e5dee40-26c3-43f1-da22-87903431e17c"
      },
      "execution_count": null,
      "outputs": [
        {
          "output_type": "stream",
          "name": "stdout",
          "text": [
            "Floor Quotient: 2\n"
          ]
        }
      ]
    },
    {
      "cell_type": "code",
      "source": [
        "# Modulo (remainder)\n",
        "remainder_result = a % b # remainder_result will be 0\n",
        "print(f\"Remainder: {remainder_result}\")"
      ],
      "metadata": {
        "colab": {
          "base_uri": "https://localhost:8080/"
        },
        "id": "K6RNjXdsjLo9",
        "outputId": "b8f04f4d-e4e0-459a-dafb-ffad83ff6a65"
      },
      "execution_count": null,
      "outputs": [
        {
          "output_type": "stream",
          "name": "stdout",
          "text": [
            "Remainder: 0\n"
          ]
        }
      ]
    },
    {
      "cell_type": "code",
      "source": [
        "# Exponentiation\n",
        "power_result = a ** b  # power_result will be 100000 (10 raised to the power of 5)\n",
        "print(f\"Power: {power_result}\")"
      ],
      "metadata": {
        "colab": {
          "base_uri": "https://localhost:8080/"
        },
        "id": "oSWf1gWOjOOl",
        "outputId": "09f7e2f2-eee7-4dad-847b-8ab9c951a5ea"
      },
      "execution_count": null,
      "outputs": [
        {
          "output_type": "stream",
          "name": "stdout",
          "text": [
            "Power: 100000\n"
          ]
        }
      ]
    },
    {
      "cell_type": "markdown",
      "source": [
        "**2. Comparison Operators:** Compare two values and return a boolean (True or False)."
      ],
      "metadata": {
        "id": "w-eG4Rz7jQiO"
      }
    },
    {
      "cell_type": "code",
      "source": [
        "x = 10\n",
        "y = 5\n",
        "\n",
        "print(f\"x > y: {x > y}\")  # Output: True (x is greater than y)\n",
        "print(f\"x < y: {x < y}\")  # Output: False\n",
        "print(f\"x >= y: {x >= y}\")  # Output: True (x is greater than or equal to y)\n",
        "print(f\"x <= y: {x <= y}\")  # Output: False\n",
        "print(f\"x == y: {x == y}\")  # Output: False (x is equal to y)\n",
        "print(f\"x != y: {x != y}\")  # Output: True (x is not equal to y)"
      ],
      "metadata": {
        "colab": {
          "base_uri": "https://localhost:8080/"
        },
        "id": "hJlXgzwdjTbl",
        "outputId": "a860a51a-b372-4e3e-a484-745e9bce227e"
      },
      "execution_count": null,
      "outputs": [
        {
          "output_type": "stream",
          "name": "stdout",
          "text": [
            "x > y: True\n",
            "x < y: False\n",
            "x >= y: True\n",
            "x <= y: False\n",
            "x == y: False\n",
            "x != y: True\n"
          ]
        }
      ]
    },
    {
      "cell_type": "markdown",
      "source": [
        "**3. Logical Operators:** Combine conditional statements."
      ],
      "metadata": {
        "id": "jdwnef9Fjdr5"
      }
    },
    {
      "cell_type": "code",
      "source": [
        "p = True\n",
        "q = False\n",
        "\n",
        "\n",
        "print(f\"p and q: {p and q}\")  # Output: False (both p and q must be True)\n",
        "print(f\"p or q: {p or q}\")    # Output: True (at least one of p or q must be True)\n",
        "print(f\"not p: {not p}\")     # Output: False (negates the truth value of p)"
      ],
      "metadata": {
        "colab": {
          "base_uri": "https://localhost:8080/"
        },
        "id": "apPg-hMNjlv2",
        "outputId": "b6bb5277-a8c4-4c17-e065-88abafd27404"
      },
      "execution_count": null,
      "outputs": [
        {
          "output_type": "stream",
          "name": "stdout",
          "text": [
            "p and q: False\n",
            "p or q: True\n",
            "not p: False\n"
          ]
        }
      ]
    },
    {
      "cell_type": "markdown",
      "source": [
        "**4. Assignment Operators:** Assign values to variables."
      ],
      "metadata": {
        "id": "Q6vYAQonjojf"
      }
    },
    {
      "cell_type": "code",
      "source": [
        "m = 5\n",
        "m += 2  # Equivalent to m = m + 2; m will be 7\n",
        "m -= 1  # Equivalent to m = m - 1; m will be 6\n",
        "m *= 3  # Equivalent to m = m * 3; m will be 18\n",
        "m /= 2 # Equivalent to m = m / 2; m will be 9.0"
      ],
      "metadata": {
        "id": "ECGnXhLcjuiS"
      },
      "execution_count": null,
      "outputs": []
    },
    {
      "cell_type": "markdown",
      "source": [
        "**5. Bitwise Operators:** Operate on individual bits of binary numbers."
      ],
      "metadata": {
        "id": "_h6dV3JujxTD"
      }
    },
    {
      "cell_type": "code",
      "source": [
        "# Examples (less commonly used):\n",
        "num1 = 10  # Binary: 1010\n",
        "num2 = 4   # Binary: 0100\n",
        "\n",
        "bitwise_and = num1 & num2  # Bitwise AND: 0000 (0)\n",
        "bitwise_or = num1 | num2   # Bitwise OR: 1110 (14)\n",
        "bitwise_xor = num1 ^ num2  # Bitwise XOR: 1110 (14)\n",
        "bitwise_not = ~num1        # Bitwise NOT: -11 (inverts all bits)\n",
        "left_shift = num1 << 1     # Left Shift: 10100 (20)\n",
        "right_shift = num1 >> 1     # Right Shift: 0101 (5)"
      ],
      "metadata": {
        "id": "QiZGP3NWj2P5"
      },
      "execution_count": null,
      "outputs": []
    },
    {
      "cell_type": "markdown",
      "source": [
        "**6. Membership Operators:** Test for membership in a sequence."
      ],
      "metadata": {
        "id": "TpqL5d5bj43c"
      }
    },
    {
      "cell_type": "code",
      "source": [
        "my_list = [1, 2, 3, 4]\n",
        "print(f\"2 in my_list: {2 in my_list}\")    # True (2 is present in the list)\n",
        "print(f\"5 not in my_list: {5 not in my_list}\") # True (5 is not present)"
      ],
      "metadata": {
        "colab": {
          "base_uri": "https://localhost:8080/"
        },
        "id": "vyNvbtcEj-o6",
        "outputId": "37cd2954-586f-404d-e137-9e6d049ac24b"
      },
      "execution_count": null,
      "outputs": [
        {
          "output_type": "stream",
          "name": "stdout",
          "text": [
            "2 in my_list: True\n",
            "5 not in my_list: True\n"
          ]
        }
      ]
    },
    {
      "cell_type": "markdown",
      "source": [
        "**7. Identity Operators:** Compare the memory locations of two objects."
      ],
      "metadata": {
        "id": "_DjzsMZTkBGs"
      }
    },
    {
      "cell_type": "code",
      "source": [
        "x = 10\n",
        "y = 10\n",
        "\n",
        "print(f\"x is y: {x is y}\")   # True (x and y point to the same object in memory)\n",
        "print(f\"x is not y: {x is not y}\") # False"
      ],
      "metadata": {
        "colab": {
          "base_uri": "https://localhost:8080/"
        },
        "id": "5rJ8e1jDkGju",
        "outputId": "d05ee03d-c376-4282-e01b-51e020e58701"
      },
      "execution_count": null,
      "outputs": [
        {
          "output_type": "stream",
          "name": "stdout",
          "text": [
            "x is y: True\n",
            "x is not y: False\n"
          ]
        }
      ]
    },
    {
      "cell_type": "markdown",
      "source": [
        "# Control Flow (if-elif-else)\n",
        "\n",
        "**Control Flow Statements:**\n",
        "Control flow statements in Python dictate the order in which code is executed. They allow you to make decisions and create branches in your program's logic.\n",
        "\n",
        "**1. if Statement:**\n",
        "Executes a block of code only if a specified condition is True."
      ],
      "metadata": {
        "id": "6vDwp9mRi0Pp"
      }
    },
    {
      "cell_type": "code",
      "source": [
        "# Example 1: Checking if a number is positive\n",
        "number = 10\n",
        "\n",
        "if number > 0:\n",
        "    print(f\"{number} is a positive number.\")"
      ],
      "metadata": {
        "colab": {
          "base_uri": "https://localhost:8080/"
        },
        "id": "J5n3_uDBkYTL",
        "outputId": "b68d8730-06b2-4764-df1d-e601370a66cb"
      },
      "execution_count": null,
      "outputs": [
        {
          "output_type": "stream",
          "name": "stdout",
          "text": [
            "10 is a positive number.\n"
          ]
        }
      ]
    },
    {
      "cell_type": "code",
      "source": [
        "# Example 2: Checking if a string is empty\n",
        "my_string = \"\"\n",
        "\n",
        "if not my_string: # Equivalent to if len(my_string) == 0\n",
        "    print(\"The string is empty.\")"
      ],
      "metadata": {
        "colab": {
          "base_uri": "https://localhost:8080/"
        },
        "id": "KfFVb26xka36",
        "outputId": "1364df2d-1ef4-41ab-ee9f-26bd1bfbe70b"
      },
      "execution_count": null,
      "outputs": [
        {
          "output_type": "stream",
          "name": "stdout",
          "text": [
            "The string is empty.\n"
          ]
        }
      ]
    },
    {
      "cell_type": "code",
      "source": [
        "# Example 3: Checking if a list is not empty\n",
        "my_list = []\n",
        "\n",
        "if my_list:  # Checks if the list is not empty\n",
        "    print(f\"The list has {len(my_list)} elements.\")\n",
        "else:\n",
        "    print(\"The list is empty\")"
      ],
      "metadata": {
        "colab": {
          "base_uri": "https://localhost:8080/"
        },
        "id": "EEHTnvxckc3E",
        "outputId": "f867e3c0-7128-4198-c20f-380fcc4d3227"
      },
      "execution_count": null,
      "outputs": [
        {
          "output_type": "stream",
          "name": "stdout",
          "text": [
            "The list is empty\n"
          ]
        }
      ]
    },
    {
      "cell_type": "markdown",
      "source": [
        "**2. if-else Statement:**\n",
        "Executes one block of code if a condition is True, and another block if the condition is False."
      ],
      "metadata": {
        "id": "SnGURosQkfPe"
      }
    },
    {
      "cell_type": "code",
      "source": [
        "# Example 1: Checking if a number is even or odd\n",
        "number = 7\n",
        "if number % 2 == 0:\n",
        "    print(f\"{number} is even.\")\n",
        "else:\n",
        "    print(f\"{number} is odd.\")"
      ],
      "metadata": {
        "colab": {
          "base_uri": "https://localhost:8080/"
        },
        "id": "iL0SkAtmkkyS",
        "outputId": "c7625085-203c-427d-e6d6-0f7f35df641d"
      },
      "execution_count": null,
      "outputs": [
        {
          "output_type": "stream",
          "name": "stdout",
          "text": [
            "7 is odd.\n"
          ]
        }
      ]
    },
    {
      "cell_type": "code",
      "source": [
        "# Example 2: Checking user access level\n",
        "user_role = \"admin\"\n",
        "if user_role == \"admin\":\n",
        "  print(\"Access granted to admin panel.\")\n",
        "else:\n",
        "  print(\"Access denied.\")"
      ],
      "metadata": {
        "colab": {
          "base_uri": "https://localhost:8080/"
        },
        "id": "6bCKmsX8kp3T",
        "outputId": "5159ad83-43da-4e2a-cb69-27cf3d6369ea"
      },
      "execution_count": null,
      "outputs": [
        {
          "output_type": "stream",
          "name": "stdout",
          "text": [
            "Access granted to admin panel.\n"
          ]
        }
      ]
    },
    {
      "cell_type": "markdown",
      "source": [
        "**3. if-elif-else Statement:**\n",
        "Allows you to check multiple conditions sequentially.  The first condition that evaluates to True will execute its corresponding block of code."
      ],
      "metadata": {
        "id": "EvhfOTZXksXi"
      }
    },
    {
      "cell_type": "code",
      "source": [
        "# Example 1: Grading based on score\n",
        "score = 85\n",
        "\n",
        "if score >= 90:\n",
        "  print(\"Grade: A\")\n",
        "elif score >= 80:\n",
        "  print(\"Grade: B\")\n",
        "elif score >= 70:\n",
        "  print(\"Grade: C\")\n",
        "elif score >= 60:\n",
        "  print(\"Grade: D\")\n",
        "else:\n",
        "  print(\"Grade: F\")"
      ],
      "metadata": {
        "colab": {
          "base_uri": "https://localhost:8080/"
        },
        "id": "rblQCTwZkxJq",
        "outputId": "d391710e-464e-4377-fffc-9974fcff4d39"
      },
      "execution_count": null,
      "outputs": [
        {
          "output_type": "stream",
          "name": "stdout",
          "text": [
            "Grade: B\n"
          ]
        }
      ]
    },
    {
      "cell_type": "code",
      "source": [
        "# Example 2: Determining the day of the week\n",
        "day_number = 3  # Let's say 3 represents Wednesday\n",
        "\n",
        "if day_number == 1:\n",
        "  day_name = \"Monday\"\n",
        "elif day_number == 2:\n",
        "  day_name = \"Tuesday\"\n",
        "elif day_number == 3:\n",
        "  day_name = \"Wednesday\"\n",
        "elif day_number == 4:\n",
        "  day_name = \"Thursday\"\n",
        "elif day_number == 5:\n",
        "  day_name = \"Friday\"\n",
        "elif day_number == 6:\n",
        "  day_name = \"Saturday\"\n",
        "elif day_number == 7:\n",
        "  day_name = \"Sunday\"\n",
        "else:\n",
        "  day_name = \"Invalid day number\"\n",
        "print(f\"The day is {day_name}\")"
      ],
      "metadata": {
        "colab": {
          "base_uri": "https://localhost:8080/"
        },
        "id": "PKo4XKywkzX_",
        "outputId": "39cae60a-605a-4c87-d47c-4b8cb4ad9c8a"
      },
      "execution_count": null,
      "outputs": [
        {
          "output_type": "stream",
          "name": "stdout",
          "text": [
            "The day is Wednesday\n"
          ]
        }
      ]
    },
    {
      "cell_type": "markdown",
      "source": [
        "**Nested if-else statements:**\n",
        "You can nest if-else statements inside each other to handle more complex conditions."
      ],
      "metadata": {
        "id": "ElWPfrdrk2Yj"
      }
    },
    {
      "cell_type": "code",
      "source": [
        "# Example: Checking age and country for eligibility\n",
        "age = 20\n",
        "country = \"US\"\n",
        "\n",
        "if age >= 18:\n",
        "    if country == \"US\":\n",
        "        print(\"Eligible to vote in the US.\")\n",
        "    else:\n",
        "        print(\"Voting eligibility may vary.\")\n",
        "else:\n",
        "    print(\"Not eligible to vote (under 18)\")"
      ],
      "metadata": {
        "colab": {
          "base_uri": "https://localhost:8080/"
        },
        "id": "3-0hurghk6ft",
        "outputId": "31ec95fd-746e-4dad-9941-24adca539e55"
      },
      "execution_count": null,
      "outputs": [
        {
          "output_type": "stream",
          "name": "stdout",
          "text": [
            "Eligible to vote in the US.\n"
          ]
        }
      ]
    },
    {
      "cell_type": "markdown",
      "source": [
        "# Loops (for and while)\n",
        "\n",
        "**Loops in Python:**\n",
        "Loops are control flow statements that allow you to repeatedly execute a block of code.  This is essential for automating repetitive tasks.  There are two main types of loops in Python: for loops and while loops.\n",
        "\n",
        "**1. For Loop:**\n",
        "A for loop is used for iterating over a sequence (like a list, tuple, string, or range) or other iterable objects."
      ],
      "metadata": {
        "id": "c4xNczXRi-km"
      }
    },
    {
      "cell_type": "code",
      "source": [
        "# Example 1: Iterating through a list\n",
        "fruits = [\"apple\", \"banana\", \"cherry\"]\n",
        "for fruit in fruits:\n",
        "    print(fruit)"
      ],
      "metadata": {
        "colab": {
          "base_uri": "https://localhost:8080/"
        },
        "id": "iUDlTj7ZlKgJ",
        "outputId": "64226125-ba89-4fc4-cc79-3538b72849b5"
      },
      "execution_count": null,
      "outputs": [
        {
          "output_type": "stream",
          "name": "stdout",
          "text": [
            "apple\n",
            "banana\n",
            "cherry\n"
          ]
        }
      ]
    },
    {
      "cell_type": "code",
      "source": [
        "# Example 2: Iterating through a string\n",
        "message = \"Hello\"\n",
        "for letter in message:\n",
        "    print(letter.upper()) # Print each letter in uppercase"
      ],
      "metadata": {
        "colab": {
          "base_uri": "https://localhost:8080/"
        },
        "id": "WF3I_brYlMnD",
        "outputId": "8681e8eb-79a9-42ae-9fbf-bdeab11ac3c5"
      },
      "execution_count": null,
      "outputs": [
        {
          "output_type": "stream",
          "name": "stdout",
          "text": [
            "H\n",
            "E\n",
            "L\n",
            "L\n",
            "O\n"
          ]
        }
      ]
    },
    {
      "cell_type": "code",
      "source": [
        "# Example 3: Iterating through a range of numbers\n",
        "for i in range(5):  # Iterates from 0 up to (but not including) 5\n",
        "    print(i)  # Output: 0 1 2 3 4\n",
        "\n",
        "for i in range(2, 8):  # Iterates from 2 up to (but not including) 8\n",
        "    print(i) # Output: 2 3 4 5 6 7\n",
        "\n",
        "for i in range(1, 10, 2): # Iterates from 1 up to (but not including) 10, incrementing by 2\n",
        "    print(i) # Output: 1 3 5 7 9"
      ],
      "metadata": {
        "colab": {
          "base_uri": "https://localhost:8080/"
        },
        "id": "ffSAkRVjlOsT",
        "outputId": "a976b574-2b18-408e-997f-a8c7f86a6935"
      },
      "execution_count": null,
      "outputs": [
        {
          "output_type": "stream",
          "name": "stdout",
          "text": [
            "0\n",
            "1\n",
            "2\n",
            "3\n",
            "4\n",
            "2\n",
            "3\n",
            "4\n",
            "5\n",
            "6\n",
            "7\n",
            "1\n",
            "3\n",
            "5\n",
            "7\n",
            "9\n"
          ]
        }
      ]
    },
    {
      "cell_type": "code",
      "source": [
        "# Example 4: Iterating through a list with index\n",
        "colors = [\"red\", \"green\", \"blue\"]\n",
        "for i in range(len(colors)): #Use the len() function to get the length of the list\n",
        "    print(f\"Color at index {i}: {colors[i]}\")"
      ],
      "metadata": {
        "colab": {
          "base_uri": "https://localhost:8080/"
        },
        "id": "EHog_WYXlRV3",
        "outputId": "67fb9255-9ed6-42c2-e57e-49bae75db3f1"
      },
      "execution_count": null,
      "outputs": [
        {
          "output_type": "stream",
          "name": "stdout",
          "text": [
            "Color at index 0: red\n",
            "Color at index 1: green\n",
            "Color at index 2: blue\n"
          ]
        }
      ]
    },
    {
      "cell_type": "code",
      "source": [
        "# Example 5: Iterating through a dictionary\n",
        "student_grades = {\"Alice\": 85, \"Bob\": 92, \"Charlie\": 78}\n",
        "\n",
        "for student, grade in student_grades.items(): # Use .items() to iterate through key-value pairs\n",
        "    print(f\"{student}: {grade}\")"
      ],
      "metadata": {
        "colab": {
          "base_uri": "https://localhost:8080/"
        },
        "id": "LgM1C5xxlTbr",
        "outputId": "1d98e35f-ba26-45c8-fd3b-b8a1810d3976"
      },
      "execution_count": null,
      "outputs": [
        {
          "output_type": "stream",
          "name": "stdout",
          "text": [
            "Alice: 85\n",
            "Bob: 92\n",
            "Charlie: 78\n"
          ]
        }
      ]
    },
    {
      "cell_type": "markdown",
      "source": [
        "**2. While Loop:**\n",
        "A while loop repeats a block of code as long as a specified condition is True."
      ],
      "metadata": {
        "id": "YQ6OCWcdlV2b"
      }
    },
    {
      "cell_type": "code",
      "source": [
        "# Example 1: Simple counter\n",
        "count = 0\n",
        "while count < 5: # The condition must eventually become false or else it will become an infinite loop\n",
        "    print(count)\n",
        "    count += 1 # Increment the counter or the loop will never end"
      ],
      "metadata": {
        "colab": {
          "base_uri": "https://localhost:8080/"
        },
        "id": "g5N0O2XJlZ8a",
        "outputId": "2cf61ab8-f3b6-47c8-e1bc-0add1630d5ef"
      },
      "execution_count": null,
      "outputs": [
        {
          "output_type": "stream",
          "name": "stdout",
          "text": [
            "0\n",
            "1\n",
            "2\n",
            "3\n",
            "4\n"
          ]
        }
      ]
    },
    {
      "cell_type": "code",
      "source": [
        "# Example 2: User input validation\n",
        "while True: #Loop forever unless it meets break condition\n",
        "  user_input = input(\"Enter a positive number: \")\n",
        "  if user_input.isdigit() and int(user_input) > 0:\n",
        "    number = int(user_input)\n",
        "    break # Exit the loop if the number is valid\n",
        "  else:\n",
        "      print(\"Invalid input. Please enter a positive number.\")"
      ],
      "metadata": {
        "colab": {
          "base_uri": "https://localhost:8080/"
        },
        "id": "IZa3e0uzlcNk",
        "outputId": "c37ad93d-054f-485f-8b21-20b8fef83620"
      },
      "execution_count": null,
      "outputs": [
        {
          "name": "stdout",
          "output_type": "stream",
          "text": [
            "Enter a positive number: 3\n"
          ]
        }
      ]
    },
    {
      "cell_type": "code",
      "source": [
        "# Example 3: Calculating the factorial of a number\n",
        "number = 5\n",
        "factorial = 1\n",
        "i = 1\n",
        "while i <= number:\n",
        "  factorial *= i\n",
        "  i += 1\n",
        "print(f\"The factorial of {number} is {factorial}\")"
      ],
      "metadata": {
        "colab": {
          "base_uri": "https://localhost:8080/"
        },
        "id": "o9cZ_EOdlhjL",
        "outputId": "40dcbd03-bd2f-4809-ac4b-7420673560c3"
      },
      "execution_count": null,
      "outputs": [
        {
          "output_type": "stream",
          "name": "stdout",
          "text": [
            "The factorial of 5 is 120\n"
          ]
        }
      ]
    },
    {
      "cell_type": "markdown",
      "source": [
        "**Loop control statements:**\n",
        "- break: Exits the loop immediately.\n",
        "- continue: Skips the current iteration and proceeds to the next."
      ],
      "metadata": {
        "id": "xVAo1Gh-lqYU"
      }
    },
    {
      "cell_type": "code",
      "source": [
        "# Example 4: Using break and continue\n",
        "for i in range(10):\n",
        "    if i == 5:\n",
        "        break  # Stop the loop when i is 5\n",
        "    elif i == 3:\n",
        "        continue  # Skip the iteration when i is 3\n",
        "i"
      ],
      "metadata": {
        "colab": {
          "base_uri": "https://localhost:8080/"
        },
        "id": "II0fWQ32lvwk",
        "outputId": "250d06da-5181-40e8-eb8c-556d5bb9c6ea"
      },
      "execution_count": null,
      "outputs": [
        {
          "output_type": "execute_result",
          "data": {
            "text/plain": [
              "5"
            ]
          },
          "metadata": {},
          "execution_count": 37
        }
      ]
    },
    {
      "cell_type": "markdown",
      "source": [
        "# Data Structures (Lists, Tuples, Dictionaries, Sets)\n",
        "\n",
        "**Data Structures in Python:**\n",
        "Data structures are specialized ways of organizing and storing data in a computer so that it can be used efficiently.  Python provides several built-in data structures, each with its own characteristics:\n",
        "\n",
        "\n",
        "**1. Lists:**\n",
        "- Ordered and mutable (changeable) sequences of items.\n",
        "- Elements can be of different data types.\n",
        "- Items are accessed by their index (position), starting from 0.\n",
        "- Lists are dynamic; you can add or remove elements."
      ],
      "metadata": {
        "id": "8Y_pDVO3jEy_"
      }
    },
    {
      "cell_type": "code",
      "source": [
        "# Examples:\n",
        "\n",
        "my_list = [1, 2, 3, \"apple\", 4.5] #Example List\n",
        "print(f\"Original list: {my_list}\")"
      ],
      "metadata": {
        "colab": {
          "base_uri": "https://localhost:8080/"
        },
        "id": "qRSU_wsvmFsl",
        "outputId": "bf8c1097-2c67-4f50-93c7-d27f9dbfd3d8"
      },
      "execution_count": null,
      "outputs": [
        {
          "output_type": "stream",
          "name": "stdout",
          "text": [
            "Original list: [1, 2, 3, 'apple', 4.5]\n"
          ]
        }
      ]
    },
    {
      "cell_type": "code",
      "source": [
        "# Accessing elements:\n",
        "print(f\"Element at index 0: {my_list[0]}\") #Access an item by its index\n",
        "print(f\"Element at index 3: {my_list[3]}\")"
      ],
      "metadata": {
        "colab": {
          "base_uri": "https://localhost:8080/"
        },
        "id": "2wUVRZrRmKWj",
        "outputId": "b0215095-2e18-4b7c-f9b3-51fbb2baa522"
      },
      "execution_count": null,
      "outputs": [
        {
          "output_type": "stream",
          "name": "stdout",
          "text": [
            "Element at index 0: 1\n",
            "Element at index 3: apple\n"
          ]
        }
      ]
    },
    {
      "cell_type": "code",
      "source": [
        "# Modifying elements:\n",
        "my_list[0] = 10  # Change the element at index 0\n",
        "print(f\"List after modification: {my_list}\")"
      ],
      "metadata": {
        "colab": {
          "base_uri": "https://localhost:8080/"
        },
        "id": "Q5tmpw61mMDW",
        "outputId": "c33b476c-8b33-49bb-85dd-7cf8a1b1861b"
      },
      "execution_count": null,
      "outputs": [
        {
          "output_type": "stream",
          "name": "stdout",
          "text": [
            "List after modification: [10, 2, 3, 'apple', 4.5]\n"
          ]
        }
      ]
    },
    {
      "cell_type": "code",
      "source": [
        "# Adding elements:\n",
        "my_list.append(6) # Add element to the end\n",
        "print(f\"List after appending: {my_list}\")\n",
        "\n",
        "my_list.insert(2, \"banana\")  # Insert at a specific index\n",
        "print(f\"List after inserting: {my_list}\")"
      ],
      "metadata": {
        "colab": {
          "base_uri": "https://localhost:8080/"
        },
        "id": "tF48SDHcmPi8",
        "outputId": "e25ea98e-d0e7-4dc0-973f-05bfde46b924"
      },
      "execution_count": null,
      "outputs": [
        {
          "output_type": "stream",
          "name": "stdout",
          "text": [
            "List after appending: [10, 2, 3, 'apple', 4.5, 6]\n",
            "List after inserting: [10, 2, 'banana', 3, 'apple', 4.5, 6]\n"
          ]
        }
      ]
    },
    {
      "cell_type": "code",
      "source": [
        "# Removing elements:\n",
        "my_list.remove(\"apple\")  # Remove the first occurrence of an element\n",
        "print(f\"List after removing 'apple': {my_list}\")\n",
        "\n",
        "\n",
        "my_list.pop(3)  # Remove the element at index 3\n",
        "print(f\"List after popping element at index 3: {my_list}\")"
      ],
      "metadata": {
        "colab": {
          "base_uri": "https://localhost:8080/"
        },
        "id": "D8YOXwD0mSGP",
        "outputId": "917e0446-0b4a-4264-d7ca-7e23fa8db142"
      },
      "execution_count": null,
      "outputs": [
        {
          "output_type": "stream",
          "name": "stdout",
          "text": [
            "List after removing 'apple': [10, 2, 'banana', 3, 4.5, 6]\n",
            "List after popping element at index 3: [10, 2, 'banana', 4.5, 6]\n"
          ]
        }
      ]
    },
    {
      "cell_type": "code",
      "source": [
        "# Other list methods:\n",
        "# my_list.sort() #Sort the list (if possible) - error here because list contains # strings and integers\n",
        "my_list_numbers = [1, 5, 2, 8, 3]\n",
        "my_list_numbers.sort()\n",
        "print(my_list_numbers)\n",
        "\n",
        "my_list.reverse()  # Reverse the list\n",
        "my_list.clear() # Remove all elements from the list\n",
        "del my_list #Delete the list entirely"
      ],
      "metadata": {
        "colab": {
          "base_uri": "https://localhost:8080/"
        },
        "id": "hupb2iujmT33",
        "outputId": "9c22def0-f876-4d6f-a670-128501e01813"
      },
      "execution_count": null,
      "outputs": [
        {
          "output_type": "stream",
          "name": "stdout",
          "text": [
            "[1, 2, 3, 5, 8]\n"
          ]
        }
      ]
    },
    {
      "cell_type": "code",
      "source": [
        "# List comprehension: concise way to create lists\n",
        "squares = [x**2 for x in range(5)]  # Generate squares of numbers from 0 to 4\n",
        "print(squares)"
      ],
      "metadata": {
        "colab": {
          "base_uri": "https://localhost:8080/"
        },
        "id": "_1lIyA2PmWnn",
        "outputId": "90809fae-b428-4ea0-959f-b22067c6a61b"
      },
      "execution_count": null,
      "outputs": [
        {
          "output_type": "stream",
          "name": "stdout",
          "text": [
            "[0, 1, 4, 9, 16]\n"
          ]
        }
      ]
    },
    {
      "cell_type": "markdown",
      "source": [
        "**2. Tuples:**\n",
        "- Ordered and immutable (unchangeable) sequences of items.\n",
        "- Used for data that shouldn't be modified."
      ],
      "metadata": {
        "id": "uAx7_Cdim4--"
      }
    },
    {
      "cell_type": "code",
      "source": [
        "# Examples:\n",
        "my_tuple = (1, 2, 3)\n",
        "\n",
        "print(f\"My Tuple: {my_tuple}\")\n",
        "print(f\"Element at index 1: {my_tuple[1]}\") #Accessing element by index\n",
        "\n",
        "#  my_tuple[0] = 10 # This will cause an error because tuples are immutable"
      ],
      "metadata": {
        "colab": {
          "base_uri": "https://localhost:8080/"
        },
        "id": "TZcKRDc8m-Ha",
        "outputId": "b41708e7-7c85-420d-d4c6-e18b0e0de213"
      },
      "execution_count": null,
      "outputs": [
        {
          "output_type": "stream",
          "name": "stdout",
          "text": [
            "My Tuple: (1, 2, 3)\n",
            "Element at index 1: 2\n"
          ]
        }
      ]
    },
    {
      "cell_type": "code",
      "source": [
        "# Tuples are often used to return multiple values from a function\n",
        "def get_coordinates():\n",
        "  return (10, 20)\n",
        "\n",
        "x, y = get_coordinates()"
      ],
      "metadata": {
        "id": "JaA3DAhInBa2"
      },
      "execution_count": null,
      "outputs": []
    },
    {
      "cell_type": "markdown",
      "source": [
        "**3. Dictionaries:**\n",
        "- Store data in key-value pairs.\n",
        "- Keys must be unique and immutable (strings, numbers, or tuples).\n",
        "- Values can be any data type.\n",
        "- Efficient for lookups based on keys."
      ],
      "metadata": {
        "id": "EMw5lbOYnEFr"
      }
    },
    {
      "cell_type": "code",
      "source": [
        "# Examples:\n",
        "my_dict = {\"name\": \"Bob\", \"age\": 25, \"city\": \"New York\"}\n",
        "\n",
        "print(f\"My Dictionary: {my_dict}\")\n",
        "print(f\"Name: {my_dict['name']}\") #Accessing value with key"
      ],
      "metadata": {
        "colab": {
          "base_uri": "https://localhost:8080/"
        },
        "id": "vg16pfLxnKx6",
        "outputId": "e1989338-869a-4102-cfe5-f6a30061164f"
      },
      "execution_count": null,
      "outputs": [
        {
          "output_type": "stream",
          "name": "stdout",
          "text": [
            "My Dictionary: {'name': 'Bob', 'age': 25, 'city': 'New York'}\n",
            "Name: Bob\n"
          ]
        }
      ]
    },
    {
      "cell_type": "code",
      "source": [
        "# Adding or changing elements:\n",
        "my_dict[\"occupation\"] = \"Engineer\" #Adding a new key-value pair\n",
        "my_dict[\"age\"] = 26 #Changing value of an existing key\n",
        "print(f\"Modified Dictionary: {my_dict}\")"
      ],
      "metadata": {
        "colab": {
          "base_uri": "https://localhost:8080/"
        },
        "id": "gl5xvJDNnNNv",
        "outputId": "c54302e8-577f-4b55-8a3a-5c499b48d100"
      },
      "execution_count": null,
      "outputs": [
        {
          "output_type": "stream",
          "name": "stdout",
          "text": [
            "Modified Dictionary: {'name': 'Bob', 'age': 26, 'city': 'New York', 'occupation': 'Engineer'}\n"
          ]
        }
      ]
    },
    {
      "cell_type": "code",
      "source": [
        "# Removing elements:\n",
        "del my_dict[\"city\"] #Removing a key-value pair\n",
        "print(f\"Dictionary after deleting city: {my_dict}\")"
      ],
      "metadata": {
        "colab": {
          "base_uri": "https://localhost:8080/"
        },
        "id": "H62XkVZMnPbU",
        "outputId": "f03fce3c-16b2-4294-82be-7379ff6d401f"
      },
      "execution_count": null,
      "outputs": [
        {
          "output_type": "stream",
          "name": "stdout",
          "text": [
            "Dictionary after deleting city: {'name': 'Bob', 'age': 26, 'occupation': 'Engineer'}\n"
          ]
        }
      ]
    },
    {
      "cell_type": "code",
      "source": [
        "# Get all keys:\n",
        "keys = my_dict.keys()\n",
        "print(keys)"
      ],
      "metadata": {
        "colab": {
          "base_uri": "https://localhost:8080/"
        },
        "id": "VvLb99P3nReS",
        "outputId": "e48727e4-10d9-440b-e992-d6630a54011e"
      },
      "execution_count": null,
      "outputs": [
        {
          "output_type": "stream",
          "name": "stdout",
          "text": [
            "dict_keys(['name', 'age', 'occupation'])\n"
          ]
        }
      ]
    },
    {
      "cell_type": "code",
      "source": [
        "# Get all values:\n",
        "values = my_dict.values()\n",
        "print(values)"
      ],
      "metadata": {
        "colab": {
          "base_uri": "https://localhost:8080/"
        },
        "id": "beWI6bUtnTlP",
        "outputId": "3f0f7782-f7e2-40bd-e39b-91bcf0e95318"
      },
      "execution_count": null,
      "outputs": [
        {
          "output_type": "stream",
          "name": "stdout",
          "text": [
            "dict_values(['Bob', 26, 'Engineer'])\n"
          ]
        }
      ]
    },
    {
      "cell_type": "markdown",
      "source": [
        "**4. Sets:**\n",
        "- Unordered collections of unique elements.\n",
        "- Used for membership testing and eliminating duplicate entries.\n",
        "- Elements must be immutable."
      ],
      "metadata": {
        "id": "yUoT_TqxnVtM"
      }
    },
    {
      "cell_type": "code",
      "source": [
        "# Examples:\n",
        "my_set = {1, 2, 2, 3, 4} # Duplicates are automatically removed\n",
        "\n",
        "\n",
        "print(f\"My set: {my_set}\")"
      ],
      "metadata": {
        "colab": {
          "base_uri": "https://localhost:8080/"
        },
        "id": "WDyI9oUsnbOh",
        "outputId": "5b21528f-7252-48d9-8ca5-a4b018c1d1bf"
      },
      "execution_count": null,
      "outputs": [
        {
          "output_type": "stream",
          "name": "stdout",
          "text": [
            "My set: {1, 2, 3, 4}\n"
          ]
        }
      ]
    },
    {
      "cell_type": "code",
      "source": [
        "# Adding and removing elements:\n",
        "my_set.add(5)  # Adding an element\n",
        "my_set.remove(2)  # Removing an element\n",
        "\n",
        "\n",
        "print(f\"Set after adding 5 and removing 2: {my_set}\")"
      ],
      "metadata": {
        "colab": {
          "base_uri": "https://localhost:8080/"
        },
        "id": "XSmhSjEcndjc",
        "outputId": "ac1cde72-8755-4271-c375-b69ed012aec7"
      },
      "execution_count": null,
      "outputs": [
        {
          "output_type": "stream",
          "name": "stdout",
          "text": [
            "Set after adding 5 and removing 2: {1, 3, 4, 5}\n"
          ]
        }
      ]
    },
    {
      "cell_type": "code",
      "source": [
        "# Check if an element is in a set:\n",
        "print(f\"Is 3 in the set?: {3 in my_set}\")"
      ],
      "metadata": {
        "colab": {
          "base_uri": "https://localhost:8080/"
        },
        "id": "uiJeJqJJnfsF",
        "outputId": "f6e1b09e-bc9c-461f-c35b-e9ebe145cc3c"
      },
      "execution_count": null,
      "outputs": [
        {
          "output_type": "stream",
          "name": "stdout",
          "text": [
            "Is 3 in the set?: True\n"
          ]
        }
      ]
    },
    {
      "cell_type": "code",
      "source": [
        "#Set operations (union, intersection, difference)\n",
        "set1 = {1, 2, 3}\n",
        "set2 = {3, 4, 5}\n",
        "\n",
        "union_set = set1 | set2 # or set1.union(set2)\n",
        "intersection_set = set1 & set2 # or set1.intersection(set2)\n",
        "difference_set = set1 - set2 # or set1.difference(set2)\n",
        "\n",
        "print(f\"Union: {union_set}\")\n",
        "print(f\"Intersection: {intersection_set}\")\n",
        "print(f\"Difference: {difference_set}\")"
      ],
      "metadata": {
        "colab": {
          "base_uri": "https://localhost:8080/"
        },
        "id": "-dNzC6wYnhmA",
        "outputId": "9720b738-0a12-4755-ffcb-493facd27c41"
      },
      "execution_count": null,
      "outputs": [
        {
          "output_type": "stream",
          "name": "stdout",
          "text": [
            "Union: {1, 2, 3, 4, 5}\n",
            "Intersection: {3}\n",
            "Difference: {1, 2}\n"
          ]
        }
      ]
    },
    {
      "cell_type": "markdown",
      "source": [
        "# 6. Functions\n",
        "**Functions** are reusable blocks of code that perform specific tasks."
      ],
      "metadata": {
        "id": "H0UCPOI-jQDd"
      }
    },
    {
      "cell_type": "code",
      "source": [
        "# Examples\n",
        "def greet(name):\n",
        "  \"\"\"This function greets the person passed in as a parameter.\"\"\"\n",
        "  print(f\"Hello, {name}!\")\n",
        "\n",
        "greet(\"Alice\") # call the function"
      ],
      "metadata": {
        "colab": {
          "base_uri": "https://localhost:8080/"
        },
        "id": "5_kHR9q9nv_P",
        "outputId": "d0717e17-c4f6-4412-c1bd-a2e11cd1d2c4"
      },
      "execution_count": null,
      "outputs": [
        {
          "output_type": "stream",
          "name": "stdout",
          "text": [
            "Hello, Alice!\n"
          ]
        }
      ]
    },
    {
      "cell_type": "code",
      "source": [
        "def add_numbers(x, y):\n",
        "  \"\"\"This function adds two numbers and returns the sum.\"\"\"\n",
        "  sum = x + y\n",
        "  return sum\n",
        "\n",
        "result = add_numbers(5, 3)  # Call the function and store the returned value\n",
        "print(f\"The sum is: {result}\")"
      ],
      "metadata": {
        "colab": {
          "base_uri": "https://localhost:8080/"
        },
        "id": "auGpP8q5nyhn",
        "outputId": "cfcaa979-47f9-47a2-8532-430d45d71e27"
      },
      "execution_count": null,
      "outputs": [
        {
          "output_type": "stream",
          "name": "stdout",
          "text": [
            "The sum is: 8\n"
          ]
        }
      ]
    },
    {
      "cell_type": "code",
      "source": [
        "def calculate_area(length, width):\n",
        "  \"\"\"This function calculates the area of a rectangle.\"\"\"\n",
        "  area = length * width\n",
        "  return area\n",
        "\n",
        "rectangle_length = 10\n",
        "rectangle_width = 5\n",
        "area_result = calculate_area(rectangle_length, rectangle_width)\n",
        "print(f\"The area of the rectangle is {area_result}\")"
      ],
      "metadata": {
        "colab": {
          "base_uri": "https://localhost:8080/"
        },
        "id": "QaOUcUJvn0vT",
        "outputId": "c313ab40-ba30-4336-b9a0-2182a9953a80"
      },
      "execution_count": null,
      "outputs": [
        {
          "output_type": "stream",
          "name": "stdout",
          "text": [
            "The area of the rectangle is 50\n"
          ]
        }
      ]
    },
    {
      "cell_type": "code",
      "source": [
        "def is_even(number):\n",
        "  \"\"\"This function checks if a number is even.\"\"\"\n",
        "  if number % 2 == 0:\n",
        "    return True  # Return True if even\n",
        "  else:\n",
        "    return False  # Return False if odd\n",
        "\n",
        "number_to_check = 8\n",
        "if is_even(number_to_check):\n",
        "    print(f\"{number_to_check} is even.\")\n",
        "else:\n",
        "    print(f\"{number_to_check} is odd.\")"
      ],
      "metadata": {
        "colab": {
          "base_uri": "https://localhost:8080/"
        },
        "id": "JxArIDSun3Q1",
        "outputId": "313eefb4-2756-4abf-e9a2-d86c6d12f95c"
      },
      "execution_count": null,
      "outputs": [
        {
          "output_type": "stream",
          "name": "stdout",
          "text": [
            "8 is even.\n"
          ]
        }
      ]
    },
    {
      "cell_type": "code",
      "source": [
        "def factorial(n):\n",
        "    \"\"\"This function calculates the factorial of a non-negative integer.\"\"\"\n",
        "    if n == 0:\n",
        "        return 1\n",
        "    else:\n",
        "        result = 1\n",
        "        for i in range(1, n + 1):\n",
        "            result *= i\n",
        "        return result\n",
        "\n",
        "number = 5\n",
        "fact = factorial(number)\n",
        "print(f\"Factorial of {number} is {fact}\")"
      ],
      "metadata": {
        "colab": {
          "base_uri": "https://localhost:8080/"
        },
        "id": "fq2T9Sr_n5rk",
        "outputId": "ca807317-85b6-487a-b79c-1929b83c9872"
      },
      "execution_count": null,
      "outputs": [
        {
          "output_type": "stream",
          "name": "stdout",
          "text": [
            "Factorial of 5 is 120\n"
          ]
        }
      ]
    },
    {
      "cell_type": "code",
      "source": [
        "# Function with default argument values\n",
        "def greet_with_message(name, message=\"Hello\"):\n",
        "  \"\"\"This function greets the person with a custom message, defaulting to 'Hello' if no message is provided.\"\"\"\n",
        "  print(f\"{message}, {name}!\")\n",
        "\n",
        "greet_with_message(\"Bob\")       # Outputs \"Hello, Bob!\"\n",
        "greet_with_message(\"Alice\", \"Hi\")  # Outputs \"Hi, Alice!\""
      ],
      "metadata": {
        "colab": {
          "base_uri": "https://localhost:8080/"
        },
        "id": "mfBFQmH-n8R6",
        "outputId": "870801f5-461b-4e93-c337-41d0f6b0eacb"
      },
      "execution_count": null,
      "outputs": [
        {
          "output_type": "stream",
          "name": "stdout",
          "text": [
            "Hello, Bob!\n",
            "Hi, Alice!\n"
          ]
        }
      ]
    },
    {
      "cell_type": "code",
      "source": [
        "# Function with variable number of arguments (*args)\n",
        "def sum_all_numbers(*args):\n",
        "  \"\"\"This function calculates the sum of all numbers provided.\"\"\"\n",
        "  total = 0\n",
        "  for number in args:\n",
        "    total += number\n",
        "  return total\n",
        "\n",
        "result1 = sum_all_numbers(1, 2, 3)\n",
        "result2 = sum_all_numbers(4, 5, 6, 7, 8)\n",
        "print(f\"Sum of 1,2,3 is {result1}\")\n",
        "print(f\"Sum of 4,5,6,7,8 is {result2}\")"
      ],
      "metadata": {
        "colab": {
          "base_uri": "https://localhost:8080/"
        },
        "id": "Hz2WDMR_n-cJ",
        "outputId": "5cf2aad2-d79b-4c34-ae15-09e5d606febe"
      },
      "execution_count": null,
      "outputs": [
        {
          "output_type": "stream",
          "name": "stdout",
          "text": [
            "Sum of 1,2,3 is 6\n",
            "Sum of 4,5,6,7,8 is 30\n"
          ]
        }
      ]
    },
    {
      "cell_type": "code",
      "source": [
        "# Function with keyword arguments (**kwargs)\n",
        "def print_details(**kwargs):\n",
        "  \"\"\"This function prints the provided keyword arguments.\"\"\"\n",
        "  for key, value in kwargs.items():\n",
        "    print(f\"{key}: {value}\")\n",
        "\n",
        "print_details(name=\"Charlie\", age=30, city=\"London\")"
      ],
      "metadata": {
        "colab": {
          "base_uri": "https://localhost:8080/"
        },
        "id": "4EDOpTsCoA5C",
        "outputId": "015e7243-6e7f-456f-83db-d80aecafd9e1"
      },
      "execution_count": null,
      "outputs": [
        {
          "output_type": "stream",
          "name": "stdout",
          "text": [
            "name: Charlie\n",
            "age: 30\n",
            "city: London\n"
          ]
        }
      ]
    },
    {
      "cell_type": "markdown",
      "source": [
        "**Lambda Functions (Anonymous Functions)**\n",
        "\n",
        "A lambda function is a small, anonymous function defined using the lambda keyword.\n",
        "They are useful for short, simple operations where defining a full function using def is unnecessary.\n",
        "\n",
        "**Syntax:**\n",
        "**lambda arguments: expression**"
      ],
      "metadata": {
        "id": "kXkNcOKywKBC"
      }
    },
    {
      "cell_type": "code",
      "source": [
        "# Example 1: Squaring a number\n",
        "square = lambda x: x * x\n",
        "print(square(5))  # Output: 25"
      ],
      "metadata": {
        "colab": {
          "base_uri": "https://localhost:8080/"
        },
        "id": "n4vl4w-AwcSb",
        "outputId": "69f3ab40-34ec-445d-d873-5d7e217a3180"
      },
      "execution_count": null,
      "outputs": [
        {
          "output_type": "stream",
          "name": "stdout",
          "text": [
            "25\n"
          ]
        }
      ]
    },
    {
      "cell_type": "code",
      "source": [
        "# Example 2: Adding two numbers\n",
        "add = lambda x, y: x + y\n",
        "print(add(3, 7))  # Output: 10"
      ],
      "metadata": {
        "colab": {
          "base_uri": "https://localhost:8080/"
        },
        "id": "p3S3xFt3we-4",
        "outputId": "41c570e5-f03b-43ae-867b-3737d4473b15"
      },
      "execution_count": null,
      "outputs": [
        {
          "output_type": "stream",
          "name": "stdout",
          "text": [
            "10\n"
          ]
        }
      ]
    },
    {
      "cell_type": "code",
      "source": [
        "# Example 3: Checking if a number is even\n",
        "is_even = lambda x: x % 2 == 0\n",
        "print(is_even(4))  # Output: True\n",
        "print(is_even(7))  # Output: False"
      ],
      "metadata": {
        "colab": {
          "base_uri": "https://localhost:8080/"
        },
        "id": "s2nRolCowgpT",
        "outputId": "077413a8-30f2-444c-e771-6d8eda77a8a3"
      },
      "execution_count": null,
      "outputs": [
        {
          "output_type": "stream",
          "name": "stdout",
          "text": [
            "True\n",
            "False\n"
          ]
        }
      ]
    },
    {
      "cell_type": "markdown",
      "source": [
        "**Map function**\n",
        "The map() function applies a given function to each item of an iterable (like a list, tuple, etc.) and returns a map object (an iterator) containing the results."
      ],
      "metadata": {
        "id": "C-0Zqs6txO8E"
      }
    },
    {
      "cell_type": "code",
      "source": [
        "# Example: Square each number in a list\n",
        "numbers = [1, 2, 3, 4, 5]\n",
        "squared_numbers = list(map(lambda x: x**2, numbers))  # Using a lambda function\n",
        "print(squared_numbers)  # Output: [1, 4, 9, 16, 25]"
      ],
      "metadata": {
        "colab": {
          "base_uri": "https://localhost:8080/"
        },
        "id": "X2qb-E-Jxbgp",
        "outputId": "df93836c-cebd-4a62-c8a3-aa8cc67f1479"
      },
      "execution_count": null,
      "outputs": [
        {
          "output_type": "stream",
          "name": "stdout",
          "text": [
            "[1, 4, 9, 16, 25]\n"
          ]
        }
      ]
    },
    {
      "cell_type": "code",
      "source": [
        "# Example: Convert strings to uppercase in a list\n",
        "words = [\"apple\", \"banana\", \"cherry\"]\n",
        "uppercase_words = list(map(str.upper, words)) # using built in string method upper\n",
        "print(uppercase_words) # Output: ['APPLE', 'BANANA', 'CHERRY']"
      ],
      "metadata": {
        "colab": {
          "base_uri": "https://localhost:8080/"
        },
        "id": "SedDVuazxdP1",
        "outputId": "50161839-2ee7-4faf-9940-801878ecdad2"
      },
      "execution_count": null,
      "outputs": [
        {
          "output_type": "stream",
          "name": "stdout",
          "text": [
            "['APPLE', 'BANANA', 'CHERRY']\n"
          ]
        }
      ]
    },
    {
      "cell_type": "markdown",
      "source": [
        "**Filter Function**\n",
        "The filter() function creates an iterator that filters elements from an iterable based on a given function.  The function should return True for elements to be included in the result, and False otherwise."
      ],
      "metadata": {
        "id": "KYcurG_DxfKK"
      }
    },
    {
      "cell_type": "code",
      "source": [
        "# Example: Filter even numbers from a list\n",
        "numbers = [1, 2, 3, 4, 5, 6]\n",
        "even_numbers = list(filter(lambda x: x % 2 == 0, numbers))\n",
        "print(even_numbers)  # Output: [2, 4, 6]"
      ],
      "metadata": {
        "colab": {
          "base_uri": "https://localhost:8080/"
        },
        "id": "QrmP6WPjxjQl",
        "outputId": "3d8eae0d-9c4c-43a9-ea3f-575c7a473798"
      },
      "execution_count": null,
      "outputs": [
        {
          "output_type": "stream",
          "name": "stdout",
          "text": [
            "[2, 4, 6]\n"
          ]
        }
      ]
    },
    {
      "cell_type": "code",
      "source": [
        "# Example: Filter strings longer than 5 characters\n",
        "words = [\"apple\", \"banana\", \"kiwi\", \"orange\"]\n",
        "long_words = list(filter(lambda word: len(word) > 5, words))\n",
        "print(long_words)  # Output: ['banana', 'orange']"
      ],
      "metadata": {
        "colab": {
          "base_uri": "https://localhost:8080/"
        },
        "id": "yCiul49YxlNp",
        "outputId": "8b0b03f4-77b2-47b9-f5dc-36cd93798d49"
      },
      "execution_count": null,
      "outputs": [
        {
          "output_type": "stream",
          "name": "stdout",
          "text": [
            "['banana', 'orange']\n"
          ]
        }
      ]
    },
    {
      "cell_type": "markdown",
      "source": [
        "**Reduce function**\n",
        "The reduce() function applies a given function cumulatively to the items of an iterable, from left to right, so as to reduce the iterable to a single value.\n",
        "**Note:** reduce() is not a built-in function in Python 3; it needs to be imported from the functools module."
      ],
      "metadata": {
        "id": "SxcViS97xnPA"
      }
    },
    {
      "cell_type": "code",
      "source": [
        "from functools import reduce\n",
        "\n",
        "# Example: Calculate the product of all numbers in a list\n",
        "numbers = [1, 2, 3, 4, 5]\n",
        "product = reduce(lambda x, y: x * y, numbers)\n",
        "print(product)  # Output: 120"
      ],
      "metadata": {
        "colab": {
          "base_uri": "https://localhost:8080/"
        },
        "id": "Mj0e--tqxvR5",
        "outputId": "169a44fe-8a98-45d7-d96f-c33b78343669"
      },
      "execution_count": null,
      "outputs": [
        {
          "output_type": "stream",
          "name": "stdout",
          "text": [
            "120\n"
          ]
        }
      ]
    },
    {
      "cell_type": "code",
      "source": [
        "# Example: Find the maximum value in a list\n",
        "numbers = [5, 2, 8, 1, 9, 4]\n",
        "maximum = reduce(lambda x, y: x if x > y else y, numbers) #inline if condition\n",
        "print(maximum) # Output: 9"
      ],
      "metadata": {
        "colab": {
          "base_uri": "https://localhost:8080/"
        },
        "id": "Nyc7FQ95xyHj",
        "outputId": "9183944e-7b4d-4461-faff-a7867676bc93"
      },
      "execution_count": null,
      "outputs": [
        {
          "output_type": "stream",
          "name": "stdout",
          "text": [
            "9\n"
          ]
        }
      ]
    },
    {
      "cell_type": "markdown",
      "source": [
        "**List comprehension**\n",
        "Create a list of squares of even numbers from 0 to 9"
      ],
      "metadata": {
        "id": "8-kNDpcpxzIg"
      }
    },
    {
      "cell_type": "code",
      "source": [
        "# List comprehension with if condition\n",
        "even_squares = [x**2 for x in range(10) if x % 2 == 0]\n",
        "print(even_squares)"
      ],
      "metadata": {
        "colab": {
          "base_uri": "https://localhost:8080/"
        },
        "id": "v9KHn_aiyXce",
        "outputId": "0c33e83d-90aa-4100-fe1c-724512109d50"
      },
      "execution_count": null,
      "outputs": [
        {
          "output_type": "stream",
          "name": "stdout",
          "text": [
            "[0, 4, 16, 36, 64]\n"
          ]
        }
      ]
    },
    {
      "cell_type": "code",
      "source": [
        "# List comprehension with if-else condition\n",
        "numbers = [1, 2, 3, 4, 5, 6]\n",
        "result = [\"even\" if x % 2 == 0 else \"odd\" for x in numbers]\n",
        "result"
      ],
      "metadata": {
        "colab": {
          "base_uri": "https://localhost:8080/"
        },
        "id": "k57_d3naysv5",
        "outputId": "7eab3aee-77ab-421e-a90b-8a4678b4b039"
      },
      "execution_count": null,
      "outputs": [
        {
          "output_type": "execute_result",
          "data": {
            "text/plain": [
              "['odd', 'even', 'odd', 'even', 'odd', 'even']"
            ]
          },
          "metadata": {},
          "execution_count": 74
        }
      ]
    },
    {
      "cell_type": "code",
      "source": [
        "# Example: Create a list of numbers, doubling even numbers and tripling odd numbers\n",
        "numbers = [1, 2, 3, 4, 5, 6]\n",
        "result = [num * 2 if num % 2 == 0 else num * 3 for num in numbers]\n",
        "print(result) # Output: [3, 4, 9, 8, 15, 12]"
      ],
      "metadata": {
        "colab": {
          "base_uri": "https://localhost:8080/"
        },
        "id": "-LeIfqwMyLBc",
        "outputId": "7384df4a-46b9-410a-8016-fe3388d2ceb0"
      },
      "execution_count": null,
      "outputs": [
        {
          "output_type": "stream",
          "name": "stdout",
          "text": [
            "[3, 4, 9, 8, 15, 12]\n"
          ]
        }
      ]
    },
    {
      "cell_type": "markdown",
      "source": [
        "**Dictionary comprehension**\n",
        "Create a dictionary where keys are numbers from 1 to 5 and values are their squares"
      ],
      "metadata": {
        "id": "asOj_vjcyBvA"
      }
    },
    {
      "cell_type": "code",
      "source": [
        "squares_dict = {x: x**2 for x in range(1, 6)}\n",
        "squares_dict"
      ],
      "metadata": {
        "colab": {
          "base_uri": "https://localhost:8080/"
        },
        "id": "T-N_BmRZyHmR",
        "outputId": "284d6654-de45-4dd9-84c2-b9dff0fa24d9"
      },
      "execution_count": null,
      "outputs": [
        {
          "output_type": "execute_result",
          "data": {
            "text/plain": [
              "{1: 1, 2: 4, 3: 9, 4: 16, 5: 25}"
            ]
          },
          "metadata": {},
          "execution_count": 76
        }
      ]
    },
    {
      "cell_type": "markdown",
      "source": [
        "# 7. File Handling\n",
        "\n",
        "**File handling** in Python allows you to interact with files on your computer, such as reading data from a file or writing data to a file.\n",
        "\n",
        "**Opening a file:**\n",
        "Use the `open()` function to open a file.  Specify the file path and the mode (read, write, append).\n",
        "\n",
        "\n",
        "**'r' (read mode):**  Opens the file for reading.  This is the default mode if you don't specify one."
      ],
      "metadata": {
        "id": "XrM9Ua5Zjojh"
      }
    },
    {
      "cell_type": "code",
      "source": [
        "%%writefile my_new_file.txt\n",
        "This is the first line of my new file.\n",
        "This is the second line.\n",
        "And here's a third one.\n"
      ],
      "metadata": {
        "id": "FEALOMRnInzi",
        "outputId": "2d610bde-00bb-4810-c679-60e0446f094b",
        "colab": {
          "base_uri": "https://localhost:8080/"
        }
      },
      "execution_count": null,
      "outputs": [
        {
          "output_type": "stream",
          "name": "stdout",
          "text": [
            "Writing my_new_file.txt\n"
          ]
        }
      ]
    },
    {
      "cell_type": "code",
      "source": [
        "file = open(\"my_new_file.txt\", \"r\")  # Replace with your file path\n",
        "contents = file.read()\n",
        "print(contents)\n",
        "file.close()"
      ],
      "metadata": {
        "colab": {
          "base_uri": "https://localhost:8080/"
        },
        "id": "Vt5WaunGoQ_k",
        "outputId": "3b8f4e2a-3249-44ef-d99b-bb26fcea9d4d"
      },
      "execution_count": null,
      "outputs": [
        {
          "output_type": "stream",
          "name": "stdout",
          "text": [
            "This is the first line of my new file.\n",
            "This is the second line.\n",
            "And here's a third one.\n",
            "\n"
          ]
        }
      ]
    },
    {
      "cell_type": "markdown",
      "source": [
        "**'w' (write mode):** Opens the file for writing. If the file doesn't exist, it will be created. If it does exist, its contents will be overwritten."
      ],
      "metadata": {
        "id": "82YiM4e6oVME"
      }
    },
    {
      "cell_type": "code",
      "source": [
        "file = open(\"my_new_file.txt\", \"w\") # Replace with your file path\n",
        "file.write(\"This is some text.\\n\")\n",
        "file.write(\"This is another line.\\n\")\n",
        "file.close()"
      ],
      "metadata": {
        "id": "F5wlAjjyoaeb"
      },
      "execution_count": null,
      "outputs": []
    },
    {
      "cell_type": "markdown",
      "source": [
        "**'a' (append mode):** Opens the file for writing, but appends new data to the end of the file instead of overwriting it."
      ],
      "metadata": {
        "id": "MTgLT8GpohZe"
      }
    },
    {
      "cell_type": "code",
      "source": [
        "file = open(\"my_new_file.txt\", \"a\") # Replace with your file path\n",
        "file.write(\"This is appended text.\\n\")\n",
        "file.close()"
      ],
      "metadata": {
        "id": "NDnGaBR_tZhw"
      },
      "execution_count": null,
      "outputs": []
    },
    {
      "cell_type": "code",
      "source": [
        "# Reading data line by line\n",
        "\n",
        "file = open(\"my_new_file.txt\", \"r\") # Replace with your file path\n",
        "for line in file:\n",
        "  print(line, end=\"\") # The end=\"\" prevents extra blank lines\n",
        "file.close()"
      ],
      "metadata": {
        "colab": {
          "base_uri": "https://localhost:8080/"
        },
        "id": "CkNvHMFgteGQ",
        "outputId": "ad51f3f0-7811-47ac-c795-d0baf2906826"
      },
      "execution_count": null,
      "outputs": [
        {
          "output_type": "stream",
          "name": "stdout",
          "text": [
            "This is some text.\n",
            "This is another line.\n",
            "This is appended text.\n"
          ]
        }
      ]
    },
    {
      "cell_type": "code",
      "source": [
        "# Writing data line by line\n",
        "\n",
        "file = open(\"another_file.txt\", \"w\") # Replace with your file path\n",
        "file.write(\"First line\\n\")\n",
        "file.write(\"Second line\\n\")\n",
        "file.write(\"Third line\\n\")\n",
        "file.close()"
      ],
      "metadata": {
        "id": "2z4axzKztgqE"
      },
      "execution_count": null,
      "outputs": []
    },
    {
      "cell_type": "code",
      "source": [
        "# Working with CSV files (Comma-Separated Values)\n",
        "\n",
        "# To handle CSV files effectively, it is recommended to use the `csv` module #from Python's standard library.\n",
        "import csv"
      ],
      "metadata": {
        "id": "yN5P4GvUtj-7"
      },
      "execution_count": null,
      "outputs": []
    },
    {
      "cell_type": "code",
      "source": [
        "# Writing to a CSV file\n",
        "data = [[\"Name\", \"Age\", \"City\"],\n",
        "        [\"Alice\", 30, \"New York\"],\n",
        "        [\"Bob\", 25, \"Los Angeles\"]]\n",
        "\n",
        "with open(\"my_data.csv\", \"w\", newline=\"\") as file:\n",
        "  writer = csv.writer(file)\n",
        "  writer.writerows(data)"
      ],
      "metadata": {
        "id": "3IbdtsLwtrrd"
      },
      "execution_count": null,
      "outputs": []
    },
    {
      "cell_type": "code",
      "source": [
        "# Reading a CSV file\n",
        "with open(\"my_data.csv\", \"r\") as file:\n",
        "  reader = csv.reader(file)\n",
        "  for row in reader:\n",
        "    print(row)"
      ],
      "metadata": {
        "colab": {
          "base_uri": "https://localhost:8080/"
        },
        "id": "uBFb2-qvtwtd",
        "outputId": "c516fe0f-914b-4eef-c18c-1ddfc476e00c"
      },
      "execution_count": null,
      "outputs": [
        {
          "output_type": "stream",
          "name": "stdout",
          "text": [
            "['Name', 'Age', 'City']\n",
            "['Alice', '30', 'New York']\n",
            "['Bob', '25', 'Los Angeles']\n"
          ]
        }
      ]
    },
    {
      "cell_type": "code",
      "source": [
        "# Using with statement:\n",
        "\n",
        "# The with statement ensures that the file is automatically closed, even if errors occur.\n",
        "\n",
        "with open(\"my_new_file.txt\", \"r\") as file:  # Replace with your file path\n",
        "    contents = file.read()\n",
        "    print(contents) # File automatically closes when exiting the block"
      ],
      "metadata": {
        "id": "kaAx93vkty7n",
        "outputId": "4a315911-e905-4e88-8f06-c15e15853115",
        "colab": {
          "base_uri": "https://localhost:8080/"
        }
      },
      "execution_count": null,
      "outputs": [
        {
          "output_type": "stream",
          "name": "stdout",
          "text": [
            "This is some text.\n",
            "This is another line.\n",
            "This is appended text.\n",
            "\n"
          ]
        }
      ]
    },
    {
      "cell_type": "markdown",
      "source": [
        "# 8. Exception Handling\n",
        "\n",
        "Exception handling is a crucial aspect of writing robust Python code.  It allows you to gracefully handle errors that might occur during program execution, preventing unexpected crashes and providing informative messages to the user.\n",
        "\n",
        "**try...except Block:**\n",
        "The basic mechanism for exception handling is the `try...except` block. Code that might raise an exception is placed within the `try` block. If an exception occurs, the corresponding `except` block is executed."
      ],
      "metadata": {
        "id": "MObz3ERAkObI"
      }
    },
    {
      "cell_type": "code",
      "source": [
        "# Example 1: Handling ZeroDivisionError\n",
        "try:\n",
        "    result = 10 / 0  # This will raise a ZeroDivisionError\n",
        "except ZeroDivisionError:\n",
        "    print(\"Error: Division by zero.\")"
      ],
      "metadata": {
        "colab": {
          "base_uri": "https://localhost:8080/"
        },
        "id": "gtDOtXdfzXoz",
        "outputId": "ae558257-26eb-4550-e4c1-a8ff474b19d9"
      },
      "execution_count": null,
      "outputs": [
        {
          "output_type": "stream",
          "name": "stdout",
          "text": [
            "Error: Division by zero.\n"
          ]
        }
      ]
    },
    {
      "cell_type": "code",
      "source": [
        "# Example 2: Handling TypeError\n",
        "try:\n",
        "    result = \"hello\" + 10  # This will raise a TypeError\n",
        "except TypeError:\n",
        "    print(\"Error: Cannot add a string and a number.\")"
      ],
      "metadata": {
        "colab": {
          "base_uri": "https://localhost:8080/"
        },
        "id": "YFQ-HKTOzbAU",
        "outputId": "f2ca2c79-0bba-4e8f-d030-9ef1053f2d24"
      },
      "execution_count": null,
      "outputs": [
        {
          "output_type": "stream",
          "name": "stdout",
          "text": [
            "Error: Cannot add a string and a number.\n"
          ]
        }
      ]
    },
    {
      "cell_type": "code",
      "source": [
        "# Example 3: Handling FileNotFoundError\n",
        "try:\n",
        "    file = open(\"nonexistent_file.txt\", \"r\")  # Try to open a file that doesn't exist\n",
        "except FileNotFoundError:\n",
        "    print(\"Error: File not found.\")"
      ],
      "metadata": {
        "colab": {
          "base_uri": "https://localhost:8080/"
        },
        "id": "3wZTcmrvzdVR",
        "outputId": "9cc299d1-d64f-49fa-9c75-975f7f2cbcc5"
      },
      "execution_count": null,
      "outputs": [
        {
          "output_type": "stream",
          "name": "stdout",
          "text": [
            "Error: File not found.\n"
          ]
        }
      ]
    },
    {
      "cell_type": "code",
      "source": [
        "# Example 4: Handling multiple exceptions\n",
        "try:\n",
        "    num = int(input(\"Enter a number: \"))\n",
        "    result = 10 / num\n",
        "except ZeroDivisionError:\n",
        "    print(\"Error: Division by zero.\")\n",
        "except ValueError:\n",
        "    print(\"Error: Invalid input. Please enter a number.\")\n",
        "except Exception as e:  # Catching any other exception\n",
        "    print(f\"An unexpected error occurred: {e}\")"
      ],
      "metadata": {
        "colab": {
          "base_uri": "https://localhost:8080/"
        },
        "id": "-l8JO8gPzfI6",
        "outputId": "6eb004ee-5ec5-496c-c103-b05ed5a3bd1d"
      },
      "execution_count": null,
      "outputs": [
        {
          "name": "stdout",
          "output_type": "stream",
          "text": [
            "Enter a number: 2\n"
          ]
        }
      ]
    },
    {
      "cell_type": "code",
      "source": [
        "# Example 5: Using finally block (always executes)\n",
        "try:\n",
        "    file = open(\"my_file.txt\", \"r\")\n",
        "    # Perform file operations\n",
        "except FileNotFoundError:\n",
        "    print(\"Error: File not found.\")\n",
        "finally:\n",
        "    if 'file' in locals() and not file.closed:\n",
        "        file.close()\n",
        "    print(\"File operation completed (or attempted).\")"
      ],
      "metadata": {
        "colab": {
          "base_uri": "https://localhost:8080/"
        },
        "id": "I28FliJnzjaV",
        "outputId": "c1def594-f089-4b4c-a56b-36612d98908b"
      },
      "execution_count": null,
      "outputs": [
        {
          "output_type": "stream",
          "name": "stdout",
          "text": [
            "Error: File not found.\n",
            "File operation completed (or attempted).\n"
          ]
        }
      ]
    },
    {
      "cell_type": "code",
      "source": [
        "# Example 6: Raising exceptions\n",
        "def validate_age(age):\n",
        "    if age < 0:\n",
        "        raise ValueError(\"Age cannot be negative.\")  # Raise a ValueError explicitly\n",
        "    elif age > 120:\n",
        "        raise ValueError(\"Age is too high\") # Raise a ValueError explicitly\n",
        "    else:\n",
        "      print(\"Age seems valid.\")\n",
        "\n",
        "\n",
        "try:\n",
        "    validate_age(-5) # This will raise a ValueError\n",
        "except ValueError as e:\n",
        "    print(f\"Error: {e}\")\n",
        "\n",
        "\n",
        "try:\n",
        "    validate_age(150) # This will raise a ValueError\n",
        "except ValueError as e:\n",
        "    print(f\"Error: {e}\")\n",
        "\n",
        "try:\n",
        "    validate_age(25)\n",
        "except ValueError as e:\n",
        "    print(f\"Error: {e}\")"
      ],
      "metadata": {
        "colab": {
          "base_uri": "https://localhost:8080/"
        },
        "id": "RqBk_GHWzlg9",
        "outputId": "ee8a4e66-7c04-4967-84b8-590080fe49dc"
      },
      "execution_count": null,
      "outputs": [
        {
          "output_type": "stream",
          "name": "stdout",
          "text": [
            "Error: Age cannot be negative.\n",
            "Error: Age is too high\n",
            "Age seems valid.\n"
          ]
        }
      ]
    },
    {
      "cell_type": "code",
      "source": [
        "# Example 7: User defined exceptions\n",
        "class InvalidInputError(Exception):\n",
        "    pass\n",
        "\n",
        "def process_input(data):\n",
        "  if not isinstance(data, int) or data < 0:\n",
        "    raise InvalidInputError(\"Input must be a non-negative integer.\")\n",
        "  print(\"Data processed successfully.\")\n",
        "\n",
        "try:\n",
        "  process_input(\"abc\") #This will raise an exception\n",
        "except InvalidInputError as e:\n",
        "  print(f\"Error: {e}\")\n",
        "\n",
        "try:\n",
        "  process_input(-5)\n",
        "except InvalidInputError as e:\n",
        "  print(f\"Error: {e}\")\n",
        "\n",
        "try:\n",
        "  process_input(10) #This won't raise an exception\n",
        "except InvalidInputError as e:\n",
        "  print(f\"Error: {e}\")\n"
      ],
      "metadata": {
        "colab": {
          "base_uri": "https://localhost:8080/"
        },
        "id": "zDDDa5TMzoBo",
        "outputId": "4447b800-9a19-46fe-c04f-c3a4efe46549"
      },
      "execution_count": null,
      "outputs": [
        {
          "output_type": "stream",
          "name": "stdout",
          "text": [
            "Error: Input must be a non-negative integer.\n",
            "Error: Input must be a non-negative integer.\n",
            "Data processed successfully.\n"
          ]
        }
      ]
    },
    {
      "cell_type": "markdown",
      "source": [
        "# 9. Modules and Packages\n",
        "\n",
        "**Modules:**\n",
        "A module is a file containing Python definitions and statements.  Modules provide a way to organize your code into reusable units.  You can import modules into your scripts to use their functions, classes, and variables."
      ],
      "metadata": {
        "id": "Y5sAaeCzkV7Q"
      }
    },
    {
      "cell_type": "code",
      "source": [
        "# Example 1: Using the `math` module\n",
        "\n",
        "import math"
      ],
      "metadata": {
        "id": "bi8KIsWpurbd"
      },
      "execution_count": null,
      "outputs": []
    },
    {
      "cell_type": "code",
      "source": [
        "# Calculate the square root of a number\n",
        "number = 25\n",
        "sqrt_result = math.sqrt(number)\n",
        "print(f\"The square root of {number} is {sqrt_result}\")"
      ],
      "metadata": {
        "colab": {
          "base_uri": "https://localhost:8080/"
        },
        "id": "bHTQGwJruwpW",
        "outputId": "d575ec6e-571d-4607-f76a-e4f0f288c48a"
      },
      "execution_count": null,
      "outputs": [
        {
          "output_type": "stream",
          "name": "stdout",
          "text": [
            "The square root of 25 is 5.0\n"
          ]
        }
      ]
    },
    {
      "cell_type": "code",
      "source": [
        "# Calculate the sine of an angle (in radians)\n",
        "angle_rad = math.pi / 2  # 90 degrees in radians\n",
        "sine_result = math.sin(angle_rad)\n",
        "print(f\"The sine of {angle_rad} radians is {sine_result}\")"
      ],
      "metadata": {
        "colab": {
          "base_uri": "https://localhost:8080/"
        },
        "id": "GVtvY5WbuzET",
        "outputId": "ee2fc2cb-459b-48d6-eda2-110908712440"
      },
      "execution_count": null,
      "outputs": [
        {
          "output_type": "stream",
          "name": "stdout",
          "text": [
            "The sine of 1.5707963267948966 radians is 1.0\n"
          ]
        }
      ]
    },
    {
      "cell_type": "code",
      "source": [
        "# Accessing constants\n",
        "print(f\"The value of pi is: {math.pi}\")"
      ],
      "metadata": {
        "colab": {
          "base_uri": "https://localhost:8080/"
        },
        "id": "l_SH7U3Lu1PS",
        "outputId": "63b624fb-bc45-460f-c9ce-b8bf70274e6b"
      },
      "execution_count": null,
      "outputs": [
        {
          "output_type": "stream",
          "name": "stdout",
          "text": [
            "The value of pi is: 3.141592653589793\n"
          ]
        }
      ]
    },
    {
      "cell_type": "code",
      "source": [
        "%%writefile my_module.py\n",
        "\n",
        "def greet(name):\n",
        "    print(f\"Hello, {name} from my_module!\")\n",
        "\n",
        "def add(x, y):\n",
        "    return x + y"
      ],
      "metadata": {
        "id": "MU4phNsPJQfH",
        "outputId": "b7bfdfc9-beb9-4bf5-c8f6-c96c6a3bb759",
        "colab": {
          "base_uri": "https://localhost:8080/"
        }
      },
      "execution_count": null,
      "outputs": [
        {
          "output_type": "stream",
          "name": "stdout",
          "text": [
            "Overwriting my_module.py\n"
          ]
        }
      ]
    },
    {
      "cell_type": "code",
      "source": [
        "import sys\n",
        "import importlib.util\n",
        "\n",
        "# Specify the path to your module\n",
        "module_path = '/content/my_module.py'\n",
        "\n",
        "# Create a module spec\n",
        "spec = importlib.util.spec_from_file_location(\"my_module\", module_path)\n",
        "\n",
        "# Load the module\n",
        "my_module = importlib.util.module_from_spec(spec)\n",
        "spec.loader.exec_module(my_module)"
      ],
      "metadata": {
        "id": "p1m0jMJdKb5C"
      },
      "execution_count": null,
      "outputs": []
    },
    {
      "cell_type": "code",
      "source": [
        "# Example 2: Custom module\n",
        "# Create a file named `my_module.py` with the following content:\n",
        "\n",
        "# my_module.py:\n",
        "# def greet(name):\n",
        "#     print(f\"Hello, {name} from my_module!\")\n",
        "\n",
        "# def add(x, y):\n",
        "#     return x + y\n",
        "\n",
        "# In your main Python file:\n",
        "\n",
        "# import my_module\n",
        "\n",
        "my_module.greet(\"Alice\")\n",
        "result = my_module.add(5, 3)\n",
        "print(result)"
      ],
      "metadata": {
        "colab": {
          "base_uri": "https://localhost:8080/"
        },
        "id": "L8vEtBBMu37S",
        "outputId": "99f93950-8a56-4c29-dd90-69fe0476a184"
      },
      "execution_count": null,
      "outputs": [
        {
          "output_type": "stream",
          "name": "stdout",
          "text": [
            "Hello, Alice from my_module!\n",
            "8\n"
          ]
        }
      ]
    },
    {
      "cell_type": "markdown",
      "source": [
        "**Packages**\n",
        "A package is a way to structure your modules into a directory hierarchy. Packages help organize related modules and prevent naming conflicts."
      ],
      "metadata": {
        "id": "VAjK_zr1u__s"
      }
    },
    {
      "cell_type": "code",
      "source": [
        "# from import statement\n",
        "# from my_module import greet, add\n",
        "greet(\"Bob\")\n",
        "result = add(10,5)\n",
        "print(result)\n",
        "\n",
        "# from import * statement\n",
        "# from my_module import *\n",
        "greet(\"Charlie\")"
      ],
      "metadata": {
        "id": "aMJyV_rcJ0Y3",
        "outputId": "73e72e2a-747e-4997-8e1b-7dc3607bea89",
        "colab": {
          "base_uri": "https://localhost:8080/"
        }
      },
      "execution_count": null,
      "outputs": [
        {
          "output_type": "stream",
          "name": "stdout",
          "text": [
            "Hello, Bob!\n",
            "15\n",
            "Hello, Charlie!\n"
          ]
        }
      ]
    },
    {
      "cell_type": "code",
      "source": [
        "%%writefile /content/my_package/__init__.py"
      ],
      "metadata": {
        "id": "Qqg3MD3r0RqX",
        "outputId": "0c8388e9-48a0-4088-fe87-e983326e660f",
        "colab": {
          "base_uri": "https://localhost:8080/"
        }
      },
      "execution_count": null,
      "outputs": [
        {
          "output_type": "stream",
          "name": "stdout",
          "text": [
            "Writing /content/my_package/__init__.py\n"
          ]
        }
      ]
    },
    {
      "cell_type": "code",
      "source": [
        "%%writefile /content/my_package/module1.py\n",
        "\n",
        "def my_function():\n",
        "    print(\"This is from module1 in my_package\")"
      ],
      "metadata": {
        "id": "GK2k8H9uLKa3",
        "outputId": "f803d3ca-8df9-4331-b8c0-053d0203140f",
        "colab": {
          "base_uri": "https://localhost:8080/"
        }
      },
      "execution_count": null,
      "outputs": [
        {
          "output_type": "stream",
          "name": "stdout",
          "text": [
            "Writing /content/my_package/module1.py\n"
          ]
        }
      ]
    },
    {
      "cell_type": "code",
      "source": [
        "# Example 3: Creating a simple package\n",
        "\n",
        "# Create a directory named `my_package`. Inside `my_package`, create an empty file named `__init__.py` and another Python file named `module1.py`:\n",
        "\n",
        "\n",
        "# my_package/__init__.py  (empty file)\n",
        "\n",
        "# my_package/module1.py\n",
        "# def my_function():\n",
        "#     print(\"This is from module1 in my_package\")"
      ],
      "metadata": {
        "id": "UhAqvH1yvHi-"
      },
      "execution_count": null,
      "outputs": []
    },
    {
      "cell_type": "code",
      "source": [
        "import sys\n",
        "import importlib.util\n",
        "\n",
        "# Specify the path to your package directory\n",
        "package_path = '/content/my_package'\n",
        "\n",
        "# Specify the path to your module file\n",
        "module_path = '/content/my_package/module1.py'\n",
        "\n",
        "# Create a module spec for the module file\n",
        "spec = importlib.util.spec_from_file_location(\"my_package.module1\", module_path)\n",
        "\n",
        "# Load the module\n",
        "my_package_module1 = importlib.util.module_from_spec(spec)\n",
        "spec.loader.exec_module(my_package_module1)\n",
        "\n",
        "# Add the package path to sys.path if it's not already there\n",
        "if package_path not in sys.path:\n",
        "    sys.path.append(package_path)\n"
      ],
      "metadata": {
        "id": "TsP01uOILWpp"
      },
      "execution_count": null,
      "outputs": []
    },
    {
      "cell_type": "code",
      "source": [
        "# To use the module in your main program:\n",
        "\n",
        "import my_package.module1\n",
        "my_package.module1.my_function()\n",
        "\n",
        "# from import statement\n",
        "from my_package.module1 import my_function\n",
        "my_function()"
      ],
      "metadata": {
        "colab": {
          "base_uri": "https://localhost:8080/"
        },
        "id": "JxzuExRkvL6o",
        "outputId": "2bc31e2c-54d8-4c78-d72f-bafbdf8555cb"
      },
      "execution_count": null,
      "outputs": [
        {
          "output_type": "stream",
          "name": "stdout",
          "text": [
            "This is from module1 in my_package\n",
            "This is from module1 in my_package\n"
          ]
        }
      ]
    },
    {
      "cell_type": "code",
      "source": [
        "# Example 4: Handling packages with multiple modules\n",
        "%%writefile /content/my_package/__init__.py\n",
        "\n",
        "# my_package/__init__.py\n",
        "__all__ = [\"module1\", \"module2\"] #specify modules available using the * notation"
      ],
      "metadata": {
        "id": "mnOnHfFdMhMM",
        "outputId": "ef601949-cbea-406a-fbe1-aaecb5f1626e",
        "colab": {
          "base_uri": "https://localhost:8080/"
        }
      },
      "execution_count": null,
      "outputs": [
        {
          "output_type": "stream",
          "name": "stdout",
          "text": [
            "Overwriting /content/my_package/__init__.py\n"
          ]
        }
      ]
    },
    {
      "cell_type": "code",
      "source": [
        "# Example 4: Handling packages with multiple modules\n",
        "%%writefile /content/my_package/module2.py\n",
        "\n",
        "# my_package/module2.py\n",
        "def another_function():\n",
        "    print(\"This is from module2 in my_package\")"
      ],
      "metadata": {
        "id": "ghezPx2PvPhw",
        "outputId": "68e3be4d-4dd7-4699-e3f8-960a8e77ba29",
        "colab": {
          "base_uri": "https://localhost:8080/"
        }
      },
      "execution_count": null,
      "outputs": [
        {
          "output_type": "stream",
          "name": "stdout",
          "text": [
            "Writing /content/my_package/module2.py\n"
          ]
        }
      ]
    },
    {
      "cell_type": "code",
      "source": [
        "# Specify the path to your module file\n",
        "module_path = '/content/my_package/module2.py'\n",
        "\n",
        "# Create a module spec for the module file\n",
        "spec = importlib.util.spec_from_file_location(\"my_package.module2\", module_path)\n",
        "\n",
        "# Load the module\n",
        "my_package_module2 = importlib.util.module_from_spec(spec)\n",
        "spec.loader.exec_module(my_package_module2)"
      ],
      "metadata": {
        "id": "cJQkRS4BMu8V"
      },
      "execution_count": null,
      "outputs": []
    },
    {
      "cell_type": "code",
      "source": [
        "# In your main Python program:\n",
        "\n",
        "# Import module1 and module2 directly from my_package\n",
        "from my_package import module1, module2\n",
        "\n",
        "module1.my_function()  # Valid\n",
        "module2.another_function()  # Valid\n",
        "\n",
        "# Alternatively, you can still use import * and it should work now\n",
        "from my_package import *\n",
        "module1.my_function()  # Valid\n",
        "module2.another_function()  # Valid\n",
        "\n",
        "#Note: `my_function` is not available in the global namespace using `from my_package import *`\n",
        "#       and needs to be called using `module1.my_function()`"
      ],
      "metadata": {
        "id": "x1AG0ha7vRhd",
        "outputId": "5781eb1f-7566-4c01-9037-bfe7145a211e",
        "colab": {
          "base_uri": "https://localhost:8080/"
        }
      },
      "execution_count": null,
      "outputs": [
        {
          "output_type": "stream",
          "name": "stdout",
          "text": [
            "This is from module1 in my_package\n",
            "This is from module2 in my_package\n",
            "This is from module1 in my_package\n",
            "This is from module2 in my_package\n"
          ]
        }
      ]
    },
    {
      "cell_type": "markdown",
      "source": [
        "**10. Classes and Objects**\n",
        "\n",
        "Classes are blueprints for creating objects.  Objects are instances of classes.  Classes define the attributes (data) and methods (functions) that objects of that class will have."
      ],
      "metadata": {
        "id": "FL4k-NQukwX-"
      }
    },
    {
      "cell_type": "code",
      "source": [
        "# Example 1: A simple class\n",
        "class Dog:\n",
        "    def __init__(self, name, breed):\n",
        "        self.name = name  # Instance variable\n",
        "        self.breed = breed # Instance variable\n",
        "\n",
        "    def bark(self):\n",
        "        print(\"Woof!\")\n",
        "\n",
        "    def describe(self):\n",
        "        print(f\"My name is {self.name} and I'm a {self.breed}.\")"
      ],
      "metadata": {
        "id": "osQbuBDblFwk"
      },
      "execution_count": null,
      "outputs": []
    },
    {
      "cell_type": "code",
      "source": [
        "# Creating objects (instances) of the class:\n",
        "my_dog = Dog(\"Buddy\", \"Golden Retriever\")\n",
        "your_dog = Dog(\"Lucy\", \"Labrador\")"
      ],
      "metadata": {
        "id": "ozbVIPufvce4"
      },
      "execution_count": null,
      "outputs": []
    },
    {
      "cell_type": "code",
      "source": [
        "# Accessing attributes and calling methods\n",
        "print(my_dog.name)      # Output: Buddy\n",
        "my_dog.bark()          # Output: Woof!\n",
        "my_dog.describe()      # Output: My name is Buddy and I'm a Golden Retriever.\n",
        "print(your_dog.breed)   # Output: Labrador\n",
        "your_dog.bark()        # Output: Woof!\n",
        "your_dog.describe()    # Output: My name is Lucy and I'm a Labrador."
      ],
      "metadata": {
        "colab": {
          "base_uri": "https://localhost:8080/"
        },
        "id": "j2_aafo5veSk",
        "outputId": "c32b397f-a62c-40e9-bf4e-2ba2a112437b"
      },
      "execution_count": null,
      "outputs": [
        {
          "output_type": "stream",
          "name": "stdout",
          "text": [
            "Buddy\n",
            "Woof!\n",
            "My name is Buddy and I'm a Golden Retriever.\n",
            "Labrador\n",
            "Woof!\n",
            "My name is Lucy and I'm a Labrador.\n"
          ]
        }
      ]
    },
    {
      "cell_type": "code",
      "source": [
        "# Example 2:  A class with a class variable\n",
        "class Circle:\n",
        "    pi = 3.14159  # Class variable (shared by all instances)\n",
        "\n",
        "    def __init__(self, radius):\n",
        "        self.radius = radius  # Instance variable\n",
        "\n",
        "    def area(self):\n",
        "        return Circle.pi * self.radius**2"
      ],
      "metadata": {
        "id": "lgjFwY3nvgQy"
      },
      "execution_count": null,
      "outputs": []
    },
    {
      "cell_type": "code",
      "source": [
        "circle1 = Circle(5)\n",
        "circle2 = Circle(10)\n",
        "\n",
        "print(circle1.area())  # Output: 78.53975\n",
        "print(circle2.area())  # Output: 314.159\n",
        "print(Circle.pi) # Access class variable using class name"
      ],
      "metadata": {
        "colab": {
          "base_uri": "https://localhost:8080/"
        },
        "id": "U38-Ja2Gvh9W",
        "outputId": "283df82c-1019-4cbb-a6f3-226f32baaa4d"
      },
      "execution_count": null,
      "outputs": [
        {
          "output_type": "stream",
          "name": "stdout",
          "text": [
            "78.53975\n",
            "314.159\n",
            "3.14159\n"
          ]
        }
      ]
    },
    {
      "cell_type": "code",
      "source": [
        "# Example 3: Inheritance\n",
        "class Animal:\n",
        "    def __init__(self, name):\n",
        "        self.name = name\n",
        "\n",
        "    def speak(self):\n",
        "        print(\"Generic animal sound\")\n",
        "\n",
        "\n",
        "class Cat(Animal):  # Cat inherits from Animal\n",
        "    def speak(self):\n",
        "        print(\"Meow!\")\n",
        "\n",
        "\n",
        "class Dog(Animal): #Dog inherits from Animal\n",
        "    def speak(self):\n",
        "        print(\"Woof!\")"
      ],
      "metadata": {
        "id": "-o9L8a56vj6E"
      },
      "execution_count": null,
      "outputs": []
    },
    {
      "cell_type": "code",
      "source": [
        "my_cat = Cat(\"Whiskers\")\n",
        "my_dog = Dog(\"Buddy\")\n",
        "\n",
        "my_cat.speak()  # Output: Meow!\n",
        "my_dog.speak()  # Output: Woof!"
      ],
      "metadata": {
        "colab": {
          "base_uri": "https://localhost:8080/"
        },
        "id": "K1AHSP4tvl0e",
        "outputId": "34aac231-a3d8-4ca2-aab1-d9085dd40397"
      },
      "execution_count": null,
      "outputs": [
        {
          "output_type": "stream",
          "name": "stdout",
          "text": [
            "Meow!\n",
            "Woof!\n"
          ]
        }
      ]
    },
    {
      "cell_type": "code",
      "source": [
        "# Example 4: Polymorphism\n",
        "animals = [Cat(\"Whiskers\"), Dog(\"Buddy\")]\n",
        "\n",
        "for animal in animals:\n",
        "    animal.speak()  # Calls the appropriate speak method for each object (polymorphism)"
      ],
      "metadata": {
        "colab": {
          "base_uri": "https://localhost:8080/"
        },
        "id": "q0ydHSVKvntf",
        "outputId": "71f82b76-fb85-4eae-d3aa-837bf486b72d"
      },
      "execution_count": null,
      "outputs": [
        {
          "output_type": "stream",
          "name": "stdout",
          "text": [
            "Meow!\n",
            "Woof!\n"
          ]
        }
      ]
    },
    {
      "cell_type": "code",
      "source": [
        "# Example 5: Encapsulation\n",
        "\n",
        "class BankAccount:\n",
        "    def __init__(self, account_number, balance):\n",
        "        self._account_number = account_number  # Protected attribute (convention)\n",
        "        self.__balance = balance # Private attribute (name mangling)\n",
        "\n",
        "    def deposit(self, amount):\n",
        "        if amount > 0:\n",
        "            self.__balance += amount\n",
        "            print(f\"Deposited {amount}. New balance: {self.__balance}\")\n",
        "        else:\n",
        "            print(\"Invalid deposit amount.\")\n",
        "\n",
        "    def get_balance(self):\n",
        "        return self.__balance\n",
        "\n",
        "account = BankAccount(\"12345\", 1000)\n",
        "account.deposit(500)\n",
        "print(account.get_balance())\n",
        "# print(account.__balance) #This will cause an AttributeError because __balance is private"
      ],
      "metadata": {
        "colab": {
          "base_uri": "https://localhost:8080/"
        },
        "id": "eDf4blLIvpNX",
        "outputId": "1d6e017e-227b-4774-c330-5bc8fa9a9a4b"
      },
      "execution_count": null,
      "outputs": [
        {
          "output_type": "stream",
          "name": "stdout",
          "text": [
            "Deposited 500. New balance: 1500\n",
            "1500\n"
          ]
        }
      ]
    },
    {
      "cell_type": "code",
      "source": [
        "# Example 6: Abstraction\n",
        "\n",
        "from abc import ABC, abstractmethod\n",
        "\n",
        "class Shape(ABC):\n",
        "    @abstractmethod\n",
        "    def area(self):\n",
        "        pass\n",
        "\n",
        "class Rectangle(Shape):\n",
        "    def __init__(self, width, height):\n",
        "        self.width = width\n",
        "        self.height = height\n",
        "    def area(self):\n",
        "        return self.width * self.height\n",
        "\n",
        "class Circle(Shape):\n",
        "    def __init__(self, radius):\n",
        "        self.radius = radius\n",
        "    def area(self):\n",
        "        return 3.14159 * self.radius**2\n",
        "\n",
        "rectangle = Rectangle(5, 10)\n",
        "circle = Circle(5)\n",
        "\n",
        "print(rectangle.area()) # Output: 50\n",
        "print(circle.area()) #Output: 78.53975\n"
      ],
      "metadata": {
        "colab": {
          "base_uri": "https://localhost:8080/"
        },
        "id": "W8voQhtKvsgJ",
        "outputId": "16d04f6f-3986-4c6d-cc4a-1093fd965e64"
      },
      "execution_count": null,
      "outputs": [
        {
          "output_type": "stream",
          "name": "stdout",
          "text": [
            "50\n",
            "78.53975\n"
          ]
        }
      ]
    },
    {
      "cell_type": "code",
      "source": [],
      "metadata": {
        "id": "R-FMN6mgv1kn"
      },
      "execution_count": null,
      "outputs": []
    }
  ]
}