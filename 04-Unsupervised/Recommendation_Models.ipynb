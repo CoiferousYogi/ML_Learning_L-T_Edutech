{
  "nbformat": 4,
  "nbformat_minor": 0,
  "metadata": {
    "colab": {
      "provenance": [],
      "authorship_tag": "ABX9TyM071woWZVDUpxrb45Wj250",
      "include_colab_link": true
    },
    "kernelspec": {
      "name": "python3",
      "display_name": "Python 3"
    },
    "language_info": {
      "name": "python"
    }
  },
  "cells": [
    {
      "cell_type": "markdown",
      "metadata": {
        "id": "view-in-github",
        "colab_type": "text"
      },
      "source": [
        "<a href=\"https://colab.research.google.com/github/usshaa/BK_Birla/blob/main/04-Unsupervised/Recommendation_Models.ipynb\" target=\"_parent\"><img src=\"https://colab.research.google.com/assets/colab-badge.svg\" alt=\"Open In Colab\"/></a>"
      ]
    },
    {
      "cell_type": "markdown",
      "source": [
        "## **1️⃣ Content-Based Filtering (Using TF-IDF & Cosine Similarity)**\n",
        "This method recommends items **based on content similarity**.  \n",
        "\n",
        "### **Example Scenario**:  \n",
        "We have a **Movie Dataset** with genres, and we recommend similar movies based on genres.  \n",
        "\n",
        "### **Step 1: Create Example Dataset**\n",
        "```python\n"
      ],
      "metadata": {
        "id": "AI8kRTKvYWnS"
      }
    },
    {
      "cell_type": "code",
      "source": [
        "import pandas as pd\n",
        "\n",
        "# Sample movie dataset\n",
        "movies = pd.DataFrame({\n",
        "    'Movie_ID': [1, 2, 3, 4, 5],\n",
        "    'Title': ['Inception', 'Interstellar', 'Titanic', 'Avatar', 'The Matrix'],\n",
        "    'Genres': ['Sci-Fi, Action', 'Sci-Fi, Drama', 'Romance, Drama', 'Sci-Fi, Adventure', 'Sci-Fi, Action']\n",
        "})\n",
        "\n",
        "print(movies)"
      ],
      "metadata": {
        "id": "-crN1mRSTUnj",
        "colab": {
          "base_uri": "https://localhost:8080/"
        },
        "outputId": "f3efb4c6-e8c8-4d52-fa53-dbb44449239e"
      },
      "execution_count": 2,
      "outputs": [
        {
          "output_type": "stream",
          "name": "stdout",
          "text": [
            "   Movie_ID         Title             Genres\n",
            "0         1     Inception     Sci-Fi, Action\n",
            "1         2  Interstellar      Sci-Fi, Drama\n",
            "2         3       Titanic     Romance, Drama\n",
            "3         4        Avatar  Sci-Fi, Adventure\n",
            "4         5    The Matrix     Sci-Fi, Action\n"
          ]
        }
      ]
    },
    {
      "cell_type": "markdown",
      "source": [
        "### **Step 2: Convert Genres into TF-IDF Vectors**\n",
        "We use **TfidfVectorizer** to transform genres into numerical values.  \n"
      ],
      "metadata": {
        "id": "ms_E04qtYhqI"
      }
    },
    {
      "cell_type": "code",
      "source": [
        "from sklearn.feature_extraction.text import TfidfVectorizer\n",
        "from sklearn.metrics.pairwise import cosine_similarity\n",
        "\n",
        "# Convert genres into numerical vectors\n",
        "vectorizer = TfidfVectorizer(stop_words='english')\n",
        "genre_matrix = vectorizer.fit_transform(movies['Genres'])\n",
        "\n",
        "# Compute Cosine Similarity\n",
        "cosine_sim = cosine_similarity(genre_matrix)\n",
        "\n",
        "# Display similarity matrix\n",
        "print(pd.DataFrame(cosine_sim, index=movies['Title'], columns=movies['Title']))\n"
      ],
      "metadata": {
        "colab": {
          "base_uri": "https://localhost:8080/"
        },
        "id": "mWnKiSspYmm2",
        "outputId": "a6c7ac5b-9081-401a-a2a5-cb86e87e3ceb"
      },
      "execution_count": 10,
      "outputs": [
        {
          "output_type": "stream",
          "name": "stdout",
          "text": [
            "Title         Inception  Interstellar   Titanic    Avatar  The Matrix\n",
            "Title                                                                \n",
            "Inception      1.000000      0.493733  0.000000  0.437857    1.000000\n",
            "Interstellar   0.493733      1.000000  0.446776  0.437857    0.493733\n",
            "Titanic        0.000000      0.446776  1.000000  0.000000    0.000000\n",
            "Avatar         0.437857      0.437857  0.000000  1.000000    0.437857\n",
            "The Matrix     1.000000      0.493733  0.000000  0.437857    1.000000\n"
          ]
        }
      ]
    },
    {
      "cell_type": "markdown",
      "source": [
        "### **Step 3: Recommend Similar Movies**\n",
        "Now, we recommend movies similar to **\"Inception\"**."
      ],
      "metadata": {
        "id": "udzx0ouxYpBW"
      }
    },
    {
      "cell_type": "code",
      "source": [
        "def recommend_movie(movie_title, movies, cosine_sim):\n",
        "    idx = movies[movies['Title'] == movie_title].index[0]  # Get index of the movie\n",
        "    sim_scores = list(enumerate(cosine_sim[idx]))  # Get similarity scores\n",
        "    sim_scores = sorted(sim_scores, key=lambda x: x[1], reverse=True)  # Sort by similarity\n",
        "    sim_scores = sim_scores[1:3]  # Top 2 similar movies (excluding itself)\n",
        "\n",
        "    movie_indices = [i[0] for i in sim_scores]\n",
        "    return movies['Title'].iloc[movie_indices]\n",
        "\n",
        "# Recommend similar movies to \"Inception\"\n",
        "print(recommend_movie('Inception', movies, cosine_sim))"
      ],
      "metadata": {
        "colab": {
          "base_uri": "https://localhost:8080/"
        },
        "id": "L_auwAtCYrwP",
        "outputId": "d7284b27-5dfd-4fd9-ba20-5db0c2241d5f"
      },
      "execution_count": 11,
      "outputs": [
        {
          "output_type": "stream",
          "name": "stdout",
          "text": [
            "4      The Matrix\n",
            "1    Interstellar\n",
            "Name: Title, dtype: object\n"
          ]
        }
      ]
    },
    {
      "cell_type": "markdown",
      "source": [
        "## **2️⃣ Collaborative Filtering (Using User-Item Matrix & Pearson Similarity)**\n",
        "This method **recommends items based on user preferences**.\n",
        "\n",
        "### **Example Scenario**:  \n",
        "We have **user ratings for movies**.  \n",
        "\n",
        "---\n",
        "\n",
        "### **Step 1: Create Example User Ratings Dataset**\n",
        "```python"
      ],
      "metadata": {
        "id": "uhwtG38ZYuOm"
      }
    },
    {
      "cell_type": "code",
      "source": [
        "ratings = pd.DataFrame({\n",
        "    'User': ['Alice', 'Alice', 'Bob', 'Bob', 'Charlie', 'Charlie'],\n",
        "    'Movie': ['Inception', 'Titanic', 'Inception', 'Avatar', 'Titanic', 'Interstellar'],\n",
        "    'Rating': [5, 3, 4, 2, 4, 5]\n",
        "})\n",
        "\n",
        "print(ratings)"
      ],
      "metadata": {
        "colab": {
          "base_uri": "https://localhost:8080/"
        },
        "id": "EncX0TatY0uG",
        "outputId": "52f83afb-7fb3-4429-fbf3-8028f2310aea"
      },
      "execution_count": 5,
      "outputs": [
        {
          "output_type": "stream",
          "name": "stdout",
          "text": [
            "      User         Movie  Rating\n",
            "0    Alice     Inception       5\n",
            "1    Alice       Titanic       3\n",
            "2      Bob     Inception       4\n",
            "3      Bob        Avatar       2\n",
            "4  Charlie       Titanic       4\n",
            "5  Charlie  Interstellar       5\n"
          ]
        }
      ]
    },
    {
      "cell_type": "markdown",
      "source": [
        "### **Step 2: Create User-Item Matrix**\n",
        "```python\n"
      ],
      "metadata": {
        "id": "JQdDYBDKZJZm"
      }
    },
    {
      "cell_type": "code",
      "source": [
        "user_movie_matrix = ratings.pivot(index='User', columns='Movie', values='Rating').fillna(0)\n",
        "print(user_movie_matrix)\n"
      ],
      "metadata": {
        "colab": {
          "base_uri": "https://localhost:8080/"
        },
        "id": "6E2Xroi-ZR0I",
        "outputId": "5e982ab6-866b-4c06-d247-018e17d629c7"
      },
      "execution_count": 6,
      "outputs": [
        {
          "output_type": "stream",
          "name": "stdout",
          "text": [
            "Movie    Avatar  Inception  Interstellar  Titanic\n",
            "User                                             \n",
            "Alice       0.0        5.0           0.0      3.0\n",
            "Bob         2.0        4.0           0.0      0.0\n",
            "Charlie     0.0        0.0           5.0      4.0\n"
          ]
        }
      ]
    },
    {
      "cell_type": "markdown",
      "source": [
        "### **Step 3: Compute Similarity Between Users**"
      ],
      "metadata": {
        "id": "432Kh7tWZToV"
      }
    },
    {
      "cell_type": "code",
      "source": [
        "from sklearn.metrics.pairwise import cosine_similarity\n",
        "\n",
        "user_sim = cosine_similarity(user_movie_matrix)\n",
        "user_sim_df = pd.DataFrame(user_sim, index=user_movie_matrix.index, columns=user_movie_matrix.index)\n",
        "\n",
        "print(user_sim_df)\n"
      ],
      "metadata": {
        "colab": {
          "base_uri": "https://localhost:8080/"
        },
        "id": "gO6lOsSHZWCd",
        "outputId": "951b9824-eb42-4c2c-91b4-342286d9132a"
      },
      "execution_count": 7,
      "outputs": [
        {
          "output_type": "stream",
          "name": "stdout",
          "text": [
            "User        Alice       Bob   Charlie\n",
            "User                                 \n",
            "Alice    1.000000  0.766965  0.321403\n",
            "Bob      0.766965  1.000000  0.000000\n",
            "Charlie  0.321403  0.000000  1.000000\n"
          ]
        }
      ]
    },
    {
      "cell_type": "markdown",
      "source": [
        "### **Step 4: Recommend Movies for a User**"
      ],
      "metadata": {
        "id": "GkJmL317ZYVb"
      }
    },
    {
      "cell_type": "code",
      "source": [
        "def recommend_movies(user, user_sim_df, ratings, top_n=2):\n",
        "    similar_users = user_sim_df[user].sort_values(ascending=False).index[1:]  # Exclude itself\n",
        "    recommended_movies = ratings[ratings['User'].isin(similar_users)]['Movie'].unique()\n",
        "    return recommended_movies[:top_n]\n",
        "\n",
        "# Recommend movies for Alice\n",
        "print(recommend_movies('Alice', user_sim_df, ratings))\n"
      ],
      "metadata": {
        "colab": {
          "base_uri": "https://localhost:8080/"
        },
        "id": "Tan1OsCVZau-",
        "outputId": "f69c5080-a2ae-4543-d788-0059d602adaa"
      },
      "execution_count": 12,
      "outputs": [
        {
          "output_type": "stream",
          "name": "stdout",
          "text": [
            "['Inception' 'Avatar']\n"
          ]
        }
      ]
    },
    {
      "cell_type": "markdown",
      "source": [
        "## **3️⃣ Hybrid Recommender System (Combining Content & Collaborative Filtering)**\n",
        "This method **combines both techniques** to improve accuracy.\n",
        "\n",
        "---\n",
        "\n",
        "### **Step 1: Combine Content-Based & Collaborative Filtering Results**"
      ],
      "metadata": {
        "id": "kSLSdQZtZdHe"
      }
    },
    {
      "cell_type": "code",
      "source": [
        "# Get content-based recommendations\n",
        "content_recommendations = recommend_movie('Inception', movies, cosine_sim)\n",
        "\n",
        "# Get collaborative filtering recommendations\n",
        "collab_recommendations = recommend_movies('Alice', user_sim_df, ratings)\n",
        "\n",
        "# Combine both recommendations\n",
        "hybrid_recommendations = list(set(content_recommendations) | set(collab_recommendations))\n",
        "\n",
        "print(\"Hybrid Recommendations for Alice:\", hybrid_recommendations)"
      ],
      "metadata": {
        "colab": {
          "base_uri": "https://localhost:8080/"
        },
        "id": "VYpdTHuXZgLT",
        "outputId": "19e2c6f5-06ac-4b7f-ac60-7b78d56268f0"
      },
      "execution_count": 15,
      "outputs": [
        {
          "output_type": "stream",
          "name": "stdout",
          "text": [
            "Hybrid Recommendations for Alice: ['Interstellar', 'The Matrix', 'Inception', 'Avatar']\n"
          ]
        }
      ]
    },
    {
      "cell_type": "markdown",
      "source": [
        "## **🎯 Model Comparision**\n",
        "| **Model Type**         | **Approach**                         | **Python Technique Used**  |\n",
        "|------------------------|-------------------------------------|---------------------------|\n",
        "| **Content-Based**      | Find similar items (e.g., movies) based on attributes | TF-IDF + Cosine Similarity |\n",
        "| **Collaborative**      | Find similar users and recommend items they like | User-Item Matrix + Cosine Similarity |\n",
        "| **Hybrid**            | Combine both Content & Collaborative Filtering | Merging both techniques |"
      ],
      "metadata": {
        "id": "4Gw1BOpwZiir"
      }
    },
    {
      "cell_type": "code",
      "source": [],
      "metadata": {
        "id": "BpE9AUUYZh9X"
      },
      "execution_count": 15,
      "outputs": []
    }
  ]
}